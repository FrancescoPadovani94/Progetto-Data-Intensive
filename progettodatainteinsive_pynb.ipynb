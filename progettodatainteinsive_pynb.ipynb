{
  "cells": [
    {
      "cell_type": "markdown",
      "metadata": {
        "id": "KCJyUT5t1ygQ"
      },
      "source": [
        "**Raccomandazione di serie o film anime utilizzando i giudizi degli utenti di myanimelist**\n",
        "\n",
        "Progetto per il corso di Programmazione di Applicazioni Data Intensive\n",
        "\n",
        "Francesco Padovani"
      ]
    },
    {
      "cell_type": "markdown",
      "metadata": {
        "id": "tySIzPVW1HGq"
      },
      "source": [
        "Librerie non predefinite in colab da installare"
      ]
    },
    {
      "cell_type": "code",
      "execution_count": null,
      "metadata": {
        "colab": {
          "base_uri": "https://localhost:8080/"
        },
        "id": "o8bRaCu6Hoqo",
        "outputId": "4d2b37b1-04ad-41c9-f466-1bcc7573565d"
      },
      "outputs": [
        {
          "output_type": "stream",
          "name": "stdout",
          "text": [
            "Looking in indexes: https://pypi.org/simple, https://us-python.pkg.dev/colab-wheels/public/simple/\n",
            "Collecting scikit-surprise\n",
            "  Downloading scikit-surprise-1.1.1.tar.gz (11.8 MB)\n",
            "\u001b[K     |████████████████████████████████| 11.8 MB 4.4 MB/s \n",
            "\u001b[?25hRequirement already satisfied: joblib>=0.11 in /usr/local/lib/python3.7/dist-packages (from scikit-surprise) (1.1.0)\n",
            "Requirement already satisfied: numpy>=1.11.2 in /usr/local/lib/python3.7/dist-packages (from scikit-surprise) (1.21.6)\n",
            "Requirement already satisfied: scipy>=1.0.0 in /usr/local/lib/python3.7/dist-packages (from scikit-surprise) (1.7.3)\n",
            "Requirement already satisfied: six>=1.10.0 in /usr/local/lib/python3.7/dist-packages (from scikit-surprise) (1.15.0)\n",
            "Building wheels for collected packages: scikit-surprise\n",
            "  Building wheel for scikit-surprise (setup.py) ... \u001b[?25l\u001b[?25hdone\n",
            "  Created wheel for scikit-surprise: filename=scikit_surprise-1.1.1-cp37-cp37m-linux_x86_64.whl size=1633998 sha256=b58a6f926a46b1c4a14a63b7e2442aa1b853143c614f057ae630d7d6fb1321bf\n",
            "  Stored in directory: /root/.cache/pip/wheels/76/44/74/b498c42be47b2406bd27994e16c5188e337c657025ab400c1c\n",
            "Successfully built scikit-surprise\n",
            "Installing collected packages: scikit-surprise\n",
            "Successfully installed scikit-surprise-1.1.1\n"
          ]
        }
      ],
      "source": [
        "%pip install scikit-surprise"
      ]
    },
    {
      "cell_type": "code",
      "execution_count": null,
      "metadata": {
        "id": "YBxYcvzRH3O_"
      },
      "outputs": [],
      "source": [
        "import numpy as np\n",
        "import pandas as pd\n",
        "import sklearn\n",
        "import surprise\n",
        "import os.path\n",
        "import tensorflow as tf\n",
        "from sklearn.model_selection import train_test_split\n",
        "import matplotlib.pyplot as plt\n",
        "%matplotlib inline"
      ]
    },
    {
      "cell_type": "code",
      "execution_count": null,
      "metadata": {
        "colab": {
          "base_uri": "https://localhost:8080/"
        },
        "id": "fqLFTIRK0dHz",
        "outputId": "068554fa-731d-40a3-89e5-4e9333e2b4ed"
      },
      "outputs": [
        {
          "output_type": "stream",
          "name": "stdout",
          "text": [
            "Archive:  /content/rating.zip\n",
            "  inflating: /content/data/rating.csv  \n"
          ]
        }
      ],
      "source": [
        "!unzip \"/content/rating.zip\" -d \"/content/data\"\n"
      ]
    },
    {
      "cell_type": "markdown",
      "metadata": {
        "id": "Zw4uwPvi2iHe"
      },
      "source": [
        "## Parte 1- Descrizione del problema e analisi esplorativa\n",
        "\n",
        "Si cerca di realizzare un modello in grado di fornire raccomandazioni significative agli utenti. "
      ]
    },
    {
      "cell_type": "markdown",
      "metadata": {
        "id": "f5O6VWGRHrQB"
      },
      "source": [
        "Datasets\n",
        "\n",
        "Sono presenti due dataset: anime.csv e rating.csv. \n",
        "\n",
        "anime.csv contiene le seguenti informazioni:\n",
        "\n",
        "\n",
        "*  **anime_id**: l'id univoco associato al prodotto\n",
        "*   **name**: il nome del prodotto\n",
        "*  **genre**: il genere televisivo del prodotto\n",
        "* **type**: se si tratta di una serie tv o un film\n",
        "* **episodes**: il numero di episodi\n",
        "* **rating**: il rating medio del prodotto\n",
        "* **members**: il numero di utenti che ha guardato il prodotto\n",
        "\n",
        "\n"
      ]
    },
    {
      "cell_type": "code",
      "execution_count": null,
      "metadata": {
        "colab": {
          "base_uri": "https://localhost:8080/",
          "height": 206
        },
        "id": "ZlZmacFQ0zkp",
        "outputId": "d82fd855-0223-436c-98c7-48a795f65190"
      },
      "outputs": [
        {
          "output_type": "execute_result",
          "data": {
            "text/plain": [
              "   anime_id                              name  \\\n",
              "0     32281                    Kimi no Na wa.   \n",
              "1      5114  Fullmetal Alchemist: Brotherhood   \n",
              "2     28977                          Gintama°   \n",
              "3      9253                       Steins;Gate   \n",
              "4      9969                     Gintama&#039;   \n",
              "\n",
              "                                               genre   type episodes  rating  \\\n",
              "0               Drama, Romance, School, Supernatural  Movie        1    9.37   \n",
              "1  Action, Adventure, Drama, Fantasy, Magic, Mili...     TV       64    9.26   \n",
              "2  Action, Comedy, Historical, Parody, Samurai, S...     TV       51    9.25   \n",
              "3                                   Sci-Fi, Thriller     TV       24    9.17   \n",
              "4  Action, Comedy, Historical, Parody, Samurai, S...     TV       51    9.16   \n",
              "\n",
              "   members  \n",
              "0   200630  \n",
              "1   793665  \n",
              "2   114262  \n",
              "3   673572  \n",
              "4   151266  "
            ],
            "text/html": [
              "\n",
              "  <div id=\"df-c59002aa-29ee-45e7-929c-b5da097e80a1\">\n",
              "    <div class=\"colab-df-container\">\n",
              "      <div>\n",
              "<style scoped>\n",
              "    .dataframe tbody tr th:only-of-type {\n",
              "        vertical-align: middle;\n",
              "    }\n",
              "\n",
              "    .dataframe tbody tr th {\n",
              "        vertical-align: top;\n",
              "    }\n",
              "\n",
              "    .dataframe thead th {\n",
              "        text-align: right;\n",
              "    }\n",
              "</style>\n",
              "<table border=\"1\" class=\"dataframe\">\n",
              "  <thead>\n",
              "    <tr style=\"text-align: right;\">\n",
              "      <th></th>\n",
              "      <th>anime_id</th>\n",
              "      <th>name</th>\n",
              "      <th>genre</th>\n",
              "      <th>type</th>\n",
              "      <th>episodes</th>\n",
              "      <th>rating</th>\n",
              "      <th>members</th>\n",
              "    </tr>\n",
              "  </thead>\n",
              "  <tbody>\n",
              "    <tr>\n",
              "      <th>0</th>\n",
              "      <td>32281</td>\n",
              "      <td>Kimi no Na wa.</td>\n",
              "      <td>Drama, Romance, School, Supernatural</td>\n",
              "      <td>Movie</td>\n",
              "      <td>1</td>\n",
              "      <td>9.37</td>\n",
              "      <td>200630</td>\n",
              "    </tr>\n",
              "    <tr>\n",
              "      <th>1</th>\n",
              "      <td>5114</td>\n",
              "      <td>Fullmetal Alchemist: Brotherhood</td>\n",
              "      <td>Action, Adventure, Drama, Fantasy, Magic, Mili...</td>\n",
              "      <td>TV</td>\n",
              "      <td>64</td>\n",
              "      <td>9.26</td>\n",
              "      <td>793665</td>\n",
              "    </tr>\n",
              "    <tr>\n",
              "      <th>2</th>\n",
              "      <td>28977</td>\n",
              "      <td>Gintama°</td>\n",
              "      <td>Action, Comedy, Historical, Parody, Samurai, S...</td>\n",
              "      <td>TV</td>\n",
              "      <td>51</td>\n",
              "      <td>9.25</td>\n",
              "      <td>114262</td>\n",
              "    </tr>\n",
              "    <tr>\n",
              "      <th>3</th>\n",
              "      <td>9253</td>\n",
              "      <td>Steins;Gate</td>\n",
              "      <td>Sci-Fi, Thriller</td>\n",
              "      <td>TV</td>\n",
              "      <td>24</td>\n",
              "      <td>9.17</td>\n",
              "      <td>673572</td>\n",
              "    </tr>\n",
              "    <tr>\n",
              "      <th>4</th>\n",
              "      <td>9969</td>\n",
              "      <td>Gintama&amp;#039;</td>\n",
              "      <td>Action, Comedy, Historical, Parody, Samurai, S...</td>\n",
              "      <td>TV</td>\n",
              "      <td>51</td>\n",
              "      <td>9.16</td>\n",
              "      <td>151266</td>\n",
              "    </tr>\n",
              "  </tbody>\n",
              "</table>\n",
              "</div>\n",
              "      <button class=\"colab-df-convert\" onclick=\"convertToInteractive('df-c59002aa-29ee-45e7-929c-b5da097e80a1')\"\n",
              "              title=\"Convert this dataframe to an interactive table.\"\n",
              "              style=\"display:none;\">\n",
              "        \n",
              "  <svg xmlns=\"http://www.w3.org/2000/svg\" height=\"24px\"viewBox=\"0 0 24 24\"\n",
              "       width=\"24px\">\n",
              "    <path d=\"M0 0h24v24H0V0z\" fill=\"none\"/>\n",
              "    <path d=\"M18.56 5.44l.94 2.06.94-2.06 2.06-.94-2.06-.94-.94-2.06-.94 2.06-2.06.94zm-11 1L8.5 8.5l.94-2.06 2.06-.94-2.06-.94L8.5 2.5l-.94 2.06-2.06.94zm10 10l.94 2.06.94-2.06 2.06-.94-2.06-.94-.94-2.06-.94 2.06-2.06.94z\"/><path d=\"M17.41 7.96l-1.37-1.37c-.4-.4-.92-.59-1.43-.59-.52 0-1.04.2-1.43.59L10.3 9.45l-7.72 7.72c-.78.78-.78 2.05 0 2.83L4 21.41c.39.39.9.59 1.41.59.51 0 1.02-.2 1.41-.59l7.78-7.78 2.81-2.81c.8-.78.8-2.07 0-2.86zM5.41 20L4 18.59l7.72-7.72 1.47 1.35L5.41 20z\"/>\n",
              "  </svg>\n",
              "      </button>\n",
              "      \n",
              "  <style>\n",
              "    .colab-df-container {\n",
              "      display:flex;\n",
              "      flex-wrap:wrap;\n",
              "      gap: 12px;\n",
              "    }\n",
              "\n",
              "    .colab-df-convert {\n",
              "      background-color: #E8F0FE;\n",
              "      border: none;\n",
              "      border-radius: 50%;\n",
              "      cursor: pointer;\n",
              "      display: none;\n",
              "      fill: #1967D2;\n",
              "      height: 32px;\n",
              "      padding: 0 0 0 0;\n",
              "      width: 32px;\n",
              "    }\n",
              "\n",
              "    .colab-df-convert:hover {\n",
              "      background-color: #E2EBFA;\n",
              "      box-shadow: 0px 1px 2px rgba(60, 64, 67, 0.3), 0px 1px 3px 1px rgba(60, 64, 67, 0.15);\n",
              "      fill: #174EA6;\n",
              "    }\n",
              "\n",
              "    [theme=dark] .colab-df-convert {\n",
              "      background-color: #3B4455;\n",
              "      fill: #D2E3FC;\n",
              "    }\n",
              "\n",
              "    [theme=dark] .colab-df-convert:hover {\n",
              "      background-color: #434B5C;\n",
              "      box-shadow: 0px 1px 3px 1px rgba(0, 0, 0, 0.15);\n",
              "      filter: drop-shadow(0px 1px 2px rgba(0, 0, 0, 0.3));\n",
              "      fill: #FFFFFF;\n",
              "    }\n",
              "  </style>\n",
              "\n",
              "      <script>\n",
              "        const buttonEl =\n",
              "          document.querySelector('#df-c59002aa-29ee-45e7-929c-b5da097e80a1 button.colab-df-convert');\n",
              "        buttonEl.style.display =\n",
              "          google.colab.kernel.accessAllowed ? 'block' : 'none';\n",
              "\n",
              "        async function convertToInteractive(key) {\n",
              "          const element = document.querySelector('#df-c59002aa-29ee-45e7-929c-b5da097e80a1');\n",
              "          const dataTable =\n",
              "            await google.colab.kernel.invokeFunction('convertToInteractive',\n",
              "                                                     [key], {});\n",
              "          if (!dataTable) return;\n",
              "\n",
              "          const docLinkHtml = 'Like what you see? Visit the ' +\n",
              "            '<a target=\"_blank\" href=https://colab.research.google.com/notebooks/data_table.ipynb>data table notebook</a>'\n",
              "            + ' to learn more about interactive tables.';\n",
              "          element.innerHTML = '';\n",
              "          dataTable['output_type'] = 'display_data';\n",
              "          await google.colab.output.renderOutput(dataTable, element);\n",
              "          const docLink = document.createElement('div');\n",
              "          docLink.innerHTML = docLinkHtml;\n",
              "          element.appendChild(docLink);\n",
              "        }\n",
              "      </script>\n",
              "    </div>\n",
              "  </div>\n",
              "  "
            ]
          },
          "metadata": {},
          "execution_count": 4
        }
      ],
      "source": [
        "anime_raw = pd.read_csv(\"/content/anime.csv\")\n",
        "anime_raw.drop(\"Unnamed: 0\" , axis=1, inplace=True)\n",
        "anime_raw.genre.fillna(\"NULL\",inplace=True)\n",
        "anime_raw.head(5)"
      ]
    },
    {
      "cell_type": "markdown",
      "metadata": {
        "id": "oZ8bvY-ZJQvL"
      },
      "source": [
        "rating.csv contiene invece:\n",
        "\n",
        "\n",
        "*   **user_id**: l'id univoco di un utente\n",
        "*   **anime_id**: l'id univoco di un prodotto\n",
        "* **rating** : il voto espresso dall'utente verso il prodotto con scala 1-10. è asssegnato -1 ai prodotti visti ma non valutati.\n",
        "\n",
        "\n",
        "\n",
        "\n"
      ]
    },
    {
      "cell_type": "code",
      "execution_count": null,
      "metadata": {
        "colab": {
          "base_uri": "https://localhost:8080/",
          "height": 206
        },
        "id": "lHpD_z4uH58p",
        "outputId": "9717d514-8911-4fec-f9aa-d156813aeaa8"
      },
      "outputs": [
        {
          "output_type": "execute_result",
          "data": {
            "text/plain": [
              "   user_id  anime_id  rating\n",
              "0        1        20      -1\n",
              "1        1        24      -1\n",
              "2        1        79      -1\n",
              "3        1       226      -1\n",
              "4        1       241      -1"
            ],
            "text/html": [
              "\n",
              "  <div id=\"df-15e97efe-989f-4f00-9cf5-01b0162e19fd\">\n",
              "    <div class=\"colab-df-container\">\n",
              "      <div>\n",
              "<style scoped>\n",
              "    .dataframe tbody tr th:only-of-type {\n",
              "        vertical-align: middle;\n",
              "    }\n",
              "\n",
              "    .dataframe tbody tr th {\n",
              "        vertical-align: top;\n",
              "    }\n",
              "\n",
              "    .dataframe thead th {\n",
              "        text-align: right;\n",
              "    }\n",
              "</style>\n",
              "<table border=\"1\" class=\"dataframe\">\n",
              "  <thead>\n",
              "    <tr style=\"text-align: right;\">\n",
              "      <th></th>\n",
              "      <th>user_id</th>\n",
              "      <th>anime_id</th>\n",
              "      <th>rating</th>\n",
              "    </tr>\n",
              "  </thead>\n",
              "  <tbody>\n",
              "    <tr>\n",
              "      <th>0</th>\n",
              "      <td>1</td>\n",
              "      <td>20</td>\n",
              "      <td>-1</td>\n",
              "    </tr>\n",
              "    <tr>\n",
              "      <th>1</th>\n",
              "      <td>1</td>\n",
              "      <td>24</td>\n",
              "      <td>-1</td>\n",
              "    </tr>\n",
              "    <tr>\n",
              "      <th>2</th>\n",
              "      <td>1</td>\n",
              "      <td>79</td>\n",
              "      <td>-1</td>\n",
              "    </tr>\n",
              "    <tr>\n",
              "      <th>3</th>\n",
              "      <td>1</td>\n",
              "      <td>226</td>\n",
              "      <td>-1</td>\n",
              "    </tr>\n",
              "    <tr>\n",
              "      <th>4</th>\n",
              "      <td>1</td>\n",
              "      <td>241</td>\n",
              "      <td>-1</td>\n",
              "    </tr>\n",
              "  </tbody>\n",
              "</table>\n",
              "</div>\n",
              "      <button class=\"colab-df-convert\" onclick=\"convertToInteractive('df-15e97efe-989f-4f00-9cf5-01b0162e19fd')\"\n",
              "              title=\"Convert this dataframe to an interactive table.\"\n",
              "              style=\"display:none;\">\n",
              "        \n",
              "  <svg xmlns=\"http://www.w3.org/2000/svg\" height=\"24px\"viewBox=\"0 0 24 24\"\n",
              "       width=\"24px\">\n",
              "    <path d=\"M0 0h24v24H0V0z\" fill=\"none\"/>\n",
              "    <path d=\"M18.56 5.44l.94 2.06.94-2.06 2.06-.94-2.06-.94-.94-2.06-.94 2.06-2.06.94zm-11 1L8.5 8.5l.94-2.06 2.06-.94-2.06-.94L8.5 2.5l-.94 2.06-2.06.94zm10 10l.94 2.06.94-2.06 2.06-.94-2.06-.94-.94-2.06-.94 2.06-2.06.94z\"/><path d=\"M17.41 7.96l-1.37-1.37c-.4-.4-.92-.59-1.43-.59-.52 0-1.04.2-1.43.59L10.3 9.45l-7.72 7.72c-.78.78-.78 2.05 0 2.83L4 21.41c.39.39.9.59 1.41.59.51 0 1.02-.2 1.41-.59l7.78-7.78 2.81-2.81c.8-.78.8-2.07 0-2.86zM5.41 20L4 18.59l7.72-7.72 1.47 1.35L5.41 20z\"/>\n",
              "  </svg>\n",
              "      </button>\n",
              "      \n",
              "  <style>\n",
              "    .colab-df-container {\n",
              "      display:flex;\n",
              "      flex-wrap:wrap;\n",
              "      gap: 12px;\n",
              "    }\n",
              "\n",
              "    .colab-df-convert {\n",
              "      background-color: #E8F0FE;\n",
              "      border: none;\n",
              "      border-radius: 50%;\n",
              "      cursor: pointer;\n",
              "      display: none;\n",
              "      fill: #1967D2;\n",
              "      height: 32px;\n",
              "      padding: 0 0 0 0;\n",
              "      width: 32px;\n",
              "    }\n",
              "\n",
              "    .colab-df-convert:hover {\n",
              "      background-color: #E2EBFA;\n",
              "      box-shadow: 0px 1px 2px rgba(60, 64, 67, 0.3), 0px 1px 3px 1px rgba(60, 64, 67, 0.15);\n",
              "      fill: #174EA6;\n",
              "    }\n",
              "\n",
              "    [theme=dark] .colab-df-convert {\n",
              "      background-color: #3B4455;\n",
              "      fill: #D2E3FC;\n",
              "    }\n",
              "\n",
              "    [theme=dark] .colab-df-convert:hover {\n",
              "      background-color: #434B5C;\n",
              "      box-shadow: 0px 1px 3px 1px rgba(0, 0, 0, 0.15);\n",
              "      filter: drop-shadow(0px 1px 2px rgba(0, 0, 0, 0.3));\n",
              "      fill: #FFFFFF;\n",
              "    }\n",
              "  </style>\n",
              "\n",
              "      <script>\n",
              "        const buttonEl =\n",
              "          document.querySelector('#df-15e97efe-989f-4f00-9cf5-01b0162e19fd button.colab-df-convert');\n",
              "        buttonEl.style.display =\n",
              "          google.colab.kernel.accessAllowed ? 'block' : 'none';\n",
              "\n",
              "        async function convertToInteractive(key) {\n",
              "          const element = document.querySelector('#df-15e97efe-989f-4f00-9cf5-01b0162e19fd');\n",
              "          const dataTable =\n",
              "            await google.colab.kernel.invokeFunction('convertToInteractive',\n",
              "                                                     [key], {});\n",
              "          if (!dataTable) return;\n",
              "\n",
              "          const docLinkHtml = 'Like what you see? Visit the ' +\n",
              "            '<a target=\"_blank\" href=https://colab.research.google.com/notebooks/data_table.ipynb>data table notebook</a>'\n",
              "            + ' to learn more about interactive tables.';\n",
              "          element.innerHTML = '';\n",
              "          dataTable['output_type'] = 'display_data';\n",
              "          await google.colab.output.renderOutput(dataTable, element);\n",
              "          const docLink = document.createElement('div');\n",
              "          docLink.innerHTML = docLinkHtml;\n",
              "          element.appendChild(docLink);\n",
              "        }\n",
              "      </script>\n",
              "    </div>\n",
              "  </div>\n",
              "  "
            ]
          },
          "metadata": {},
          "execution_count": 5
        }
      ],
      "source": [
        "rating_raw=pd.read_csv(\"/content/data/rating.csv\")\n",
        "rating_raw.drop(\"Unnamed: 0\" , axis=1, inplace=True) \n",
        "rating_raw.head(5)"
      ]
    },
    {
      "cell_type": "markdown",
      "metadata": {
        "id": "fEJRDBtTR7b9"
      },
      "source": [
        "### Analisi Esplorativa"
      ]
    },
    {
      "cell_type": "code",
      "execution_count": null,
      "metadata": {
        "colab": {
          "base_uri": "https://localhost:8080/"
        },
        "id": "8Nkp9pdUutdr",
        "outputId": "5e5d30c3-c0b8-4abc-c63d-0a9f2d57ff7d"
      },
      "outputs": [
        {
          "data": {
            "text/plain": [
              "(7689833, 3)"
            ]
          },
          "execution_count": 29,
          "metadata": {},
          "output_type": "execute_result"
        }
      ],
      "source": [
        "rating_raw.shape"
      ]
    },
    {
      "cell_type": "markdown",
      "metadata": {
        "id": "pIdU0Yeiza63"
      },
      "source": [
        "Sono presenti 7689833 triple utente prodotto voto."
      ]
    },
    {
      "cell_type": "code",
      "execution_count": null,
      "metadata": {
        "colab": {
          "base_uri": "https://localhost:8080/",
          "height": 300
        },
        "id": "JC2cCxkxJisl",
        "outputId": "84f67ef9-b453-4363-bc64-1d993e9681c1"
      },
      "outputs": [
        {
          "data": {
            "text/html": [
              "\n",
              "  <div id=\"df-feb26967-5bc2-4c0c-8a0d-bda44ea8f8b8\">\n",
              "    <div class=\"colab-df-container\">\n",
              "      <div>\n",
              "<style scoped>\n",
              "    .dataframe tbody tr th:only-of-type {\n",
              "        vertical-align: middle;\n",
              "    }\n",
              "\n",
              "    .dataframe tbody tr th {\n",
              "        vertical-align: top;\n",
              "    }\n",
              "\n",
              "    .dataframe thead th {\n",
              "        text-align: right;\n",
              "    }\n",
              "</style>\n",
              "<table border=\"1\" class=\"dataframe\">\n",
              "  <thead>\n",
              "    <tr style=\"text-align: right;\">\n",
              "      <th></th>\n",
              "      <th>user_id</th>\n",
              "      <th>anime_id</th>\n",
              "      <th>rating</th>\n",
              "    </tr>\n",
              "  </thead>\n",
              "  <tbody>\n",
              "    <tr>\n",
              "      <th>count</th>\n",
              "      <td>7.689833e+06</td>\n",
              "      <td>7.689833e+06</td>\n",
              "      <td>7.689833e+06</td>\n",
              "    </tr>\n",
              "    <tr>\n",
              "      <th>mean</th>\n",
              "      <td>3.671195e+04</td>\n",
              "      <td>8.954710e+03</td>\n",
              "      <td>6.171581e+00</td>\n",
              "    </tr>\n",
              "    <tr>\n",
              "      <th>std</th>\n",
              "      <td>2.100297e+04</td>\n",
              "      <td>8.911550e+03</td>\n",
              "      <td>3.718885e+00</td>\n",
              "    </tr>\n",
              "    <tr>\n",
              "      <th>min</th>\n",
              "      <td>1.000000e+00</td>\n",
              "      <td>1.000000e+00</td>\n",
              "      <td>-1.000000e+00</td>\n",
              "    </tr>\n",
              "    <tr>\n",
              "      <th>25%</th>\n",
              "      <td>1.895100e+04</td>\n",
              "      <td>1.222000e+03</td>\n",
              "      <td>6.000000e+00</td>\n",
              "    </tr>\n",
              "    <tr>\n",
              "      <th>50%</th>\n",
              "      <td>3.674300e+04</td>\n",
              "      <td>6.325000e+03</td>\n",
              "      <td>7.000000e+00</td>\n",
              "    </tr>\n",
              "    <tr>\n",
              "      <th>75%</th>\n",
              "      <td>5.475500e+04</td>\n",
              "      <td>1.422700e+04</td>\n",
              "      <td>9.000000e+00</td>\n",
              "    </tr>\n",
              "    <tr>\n",
              "      <th>max</th>\n",
              "      <td>7.351600e+04</td>\n",
              "      <td>3.451900e+04</td>\n",
              "      <td>1.000000e+01</td>\n",
              "    </tr>\n",
              "  </tbody>\n",
              "</table>\n",
              "</div>\n",
              "      <button class=\"colab-df-convert\" onclick=\"convertToInteractive('df-feb26967-5bc2-4c0c-8a0d-bda44ea8f8b8')\"\n",
              "              title=\"Convert this dataframe to an interactive table.\"\n",
              "              style=\"display:none;\">\n",
              "        \n",
              "  <svg xmlns=\"http://www.w3.org/2000/svg\" height=\"24px\"viewBox=\"0 0 24 24\"\n",
              "       width=\"24px\">\n",
              "    <path d=\"M0 0h24v24H0V0z\" fill=\"none\"/>\n",
              "    <path d=\"M18.56 5.44l.94 2.06.94-2.06 2.06-.94-2.06-.94-.94-2.06-.94 2.06-2.06.94zm-11 1L8.5 8.5l.94-2.06 2.06-.94-2.06-.94L8.5 2.5l-.94 2.06-2.06.94zm10 10l.94 2.06.94-2.06 2.06-.94-2.06-.94-.94-2.06-.94 2.06-2.06.94z\"/><path d=\"M17.41 7.96l-1.37-1.37c-.4-.4-.92-.59-1.43-.59-.52 0-1.04.2-1.43.59L10.3 9.45l-7.72 7.72c-.78.78-.78 2.05 0 2.83L4 21.41c.39.39.9.59 1.41.59.51 0 1.02-.2 1.41-.59l7.78-7.78 2.81-2.81c.8-.78.8-2.07 0-2.86zM5.41 20L4 18.59l7.72-7.72 1.47 1.35L5.41 20z\"/>\n",
              "  </svg>\n",
              "      </button>\n",
              "      \n",
              "  <style>\n",
              "    .colab-df-container {\n",
              "      display:flex;\n",
              "      flex-wrap:wrap;\n",
              "      gap: 12px;\n",
              "    }\n",
              "\n",
              "    .colab-df-convert {\n",
              "      background-color: #E8F0FE;\n",
              "      border: none;\n",
              "      border-radius: 50%;\n",
              "      cursor: pointer;\n",
              "      display: none;\n",
              "      fill: #1967D2;\n",
              "      height: 32px;\n",
              "      padding: 0 0 0 0;\n",
              "      width: 32px;\n",
              "    }\n",
              "\n",
              "    .colab-df-convert:hover {\n",
              "      background-color: #E2EBFA;\n",
              "      box-shadow: 0px 1px 2px rgba(60, 64, 67, 0.3), 0px 1px 3px 1px rgba(60, 64, 67, 0.15);\n",
              "      fill: #174EA6;\n",
              "    }\n",
              "\n",
              "    [theme=dark] .colab-df-convert {\n",
              "      background-color: #3B4455;\n",
              "      fill: #D2E3FC;\n",
              "    }\n",
              "\n",
              "    [theme=dark] .colab-df-convert:hover {\n",
              "      background-color: #434B5C;\n",
              "      box-shadow: 0px 1px 3px 1px rgba(0, 0, 0, 0.15);\n",
              "      filter: drop-shadow(0px 1px 2px rgba(0, 0, 0, 0.3));\n",
              "      fill: #FFFFFF;\n",
              "    }\n",
              "  </style>\n",
              "\n",
              "      <script>\n",
              "        const buttonEl =\n",
              "          document.querySelector('#df-feb26967-5bc2-4c0c-8a0d-bda44ea8f8b8 button.colab-df-convert');\n",
              "        buttonEl.style.display =\n",
              "          google.colab.kernel.accessAllowed ? 'block' : 'none';\n",
              "\n",
              "        async function convertToInteractive(key) {\n",
              "          const element = document.querySelector('#df-feb26967-5bc2-4c0c-8a0d-bda44ea8f8b8');\n",
              "          const dataTable =\n",
              "            await google.colab.kernel.invokeFunction('convertToInteractive',\n",
              "                                                     [key], {});\n",
              "          if (!dataTable) return;\n",
              "\n",
              "          const docLinkHtml = 'Like what you see? Visit the ' +\n",
              "            '<a target=\"_blank\" href=https://colab.research.google.com/notebooks/data_table.ipynb>data table notebook</a>'\n",
              "            + ' to learn more about interactive tables.';\n",
              "          element.innerHTML = '';\n",
              "          dataTable['output_type'] = 'display_data';\n",
              "          await google.colab.output.renderOutput(dataTable, element);\n",
              "          const docLink = document.createElement('div');\n",
              "          docLink.innerHTML = docLinkHtml;\n",
              "          element.appendChild(docLink);\n",
              "        }\n",
              "      </script>\n",
              "    </div>\n",
              "  </div>\n",
              "  "
            ],
            "text/plain": [
              "            user_id      anime_id        rating\n",
              "count  7.689833e+06  7.689833e+06  7.689833e+06\n",
              "mean   3.671195e+04  8.954710e+03  6.171581e+00\n",
              "std    2.100297e+04  8.911550e+03  3.718885e+00\n",
              "min    1.000000e+00  1.000000e+00 -1.000000e+00\n",
              "25%    1.895100e+04  1.222000e+03  6.000000e+00\n",
              "50%    3.674300e+04  6.325000e+03  7.000000e+00\n",
              "75%    5.475500e+04  1.422700e+04  9.000000e+00\n",
              "max    7.351600e+04  3.451900e+04  1.000000e+01"
            ]
          },
          "execution_count": 30,
          "metadata": {},
          "output_type": "execute_result"
        }
      ],
      "source": [
        "rating_raw.describe()"
      ]
    },
    {
      "cell_type": "code",
      "execution_count": null,
      "metadata": {
        "id": "qFTSC8UySWTW"
      },
      "outputs": [],
      "source": [
        "rating_raw= rating_raw.replace(-1,0)"
      ]
    },
    {
      "cell_type": "markdown",
      "metadata": {
        "id": "nfvWf9Gnrd4J"
      },
      "source": [
        "Lavorando con rating espliciti si eliminano i prodotti visualizzati ma non votati. Il voto medio ricevuto da un prodotto è pari a 7.82 e la mediana è 8."
      ]
    },
    {
      "cell_type": "code",
      "execution_count": null,
      "metadata": {
        "colab": {
          "base_uri": "https://localhost:8080/",
          "height": 206
        },
        "id": "6-O7wkC47T10",
        "outputId": "eb3fb7a1-259d-4e40-ebf0-de16c9d970ec"
      },
      "outputs": [
        {
          "output_type": "execute_result",
          "data": {
            "text/plain": [
              "     user_id  anime_id  rating\n",
              "47         1      8074      10\n",
              "81         1     11617      10\n",
              "83         1     11757      10\n",
              "101        1     15451      10\n",
              "153        2     11771      10"
            ],
            "text/html": [
              "\n",
              "  <div id=\"df-d36e1fd4-a849-4bb9-845e-2954cb6dec1f\">\n",
              "    <div class=\"colab-df-container\">\n",
              "      <div>\n",
              "<style scoped>\n",
              "    .dataframe tbody tr th:only-of-type {\n",
              "        vertical-align: middle;\n",
              "    }\n",
              "\n",
              "    .dataframe tbody tr th {\n",
              "        vertical-align: top;\n",
              "    }\n",
              "\n",
              "    .dataframe thead th {\n",
              "        text-align: right;\n",
              "    }\n",
              "</style>\n",
              "<table border=\"1\" class=\"dataframe\">\n",
              "  <thead>\n",
              "    <tr style=\"text-align: right;\">\n",
              "      <th></th>\n",
              "      <th>user_id</th>\n",
              "      <th>anime_id</th>\n",
              "      <th>rating</th>\n",
              "    </tr>\n",
              "  </thead>\n",
              "  <tbody>\n",
              "    <tr>\n",
              "      <th>47</th>\n",
              "      <td>1</td>\n",
              "      <td>8074</td>\n",
              "      <td>10</td>\n",
              "    </tr>\n",
              "    <tr>\n",
              "      <th>81</th>\n",
              "      <td>1</td>\n",
              "      <td>11617</td>\n",
              "      <td>10</td>\n",
              "    </tr>\n",
              "    <tr>\n",
              "      <th>83</th>\n",
              "      <td>1</td>\n",
              "      <td>11757</td>\n",
              "      <td>10</td>\n",
              "    </tr>\n",
              "    <tr>\n",
              "      <th>101</th>\n",
              "      <td>1</td>\n",
              "      <td>15451</td>\n",
              "      <td>10</td>\n",
              "    </tr>\n",
              "    <tr>\n",
              "      <th>153</th>\n",
              "      <td>2</td>\n",
              "      <td>11771</td>\n",
              "      <td>10</td>\n",
              "    </tr>\n",
              "  </tbody>\n",
              "</table>\n",
              "</div>\n",
              "      <button class=\"colab-df-convert\" onclick=\"convertToInteractive('df-d36e1fd4-a849-4bb9-845e-2954cb6dec1f')\"\n",
              "              title=\"Convert this dataframe to an interactive table.\"\n",
              "              style=\"display:none;\">\n",
              "        \n",
              "  <svg xmlns=\"http://www.w3.org/2000/svg\" height=\"24px\"viewBox=\"0 0 24 24\"\n",
              "       width=\"24px\">\n",
              "    <path d=\"M0 0h24v24H0V0z\" fill=\"none\"/>\n",
              "    <path d=\"M18.56 5.44l.94 2.06.94-2.06 2.06-.94-2.06-.94-.94-2.06-.94 2.06-2.06.94zm-11 1L8.5 8.5l.94-2.06 2.06-.94-2.06-.94L8.5 2.5l-.94 2.06-2.06.94zm10 10l.94 2.06.94-2.06 2.06-.94-2.06-.94-.94-2.06-.94 2.06-2.06.94z\"/><path d=\"M17.41 7.96l-1.37-1.37c-.4-.4-.92-.59-1.43-.59-.52 0-1.04.2-1.43.59L10.3 9.45l-7.72 7.72c-.78.78-.78 2.05 0 2.83L4 21.41c.39.39.9.59 1.41.59.51 0 1.02-.2 1.41-.59l7.78-7.78 2.81-2.81c.8-.78.8-2.07 0-2.86zM5.41 20L4 18.59l7.72-7.72 1.47 1.35L5.41 20z\"/>\n",
              "  </svg>\n",
              "      </button>\n",
              "      \n",
              "  <style>\n",
              "    .colab-df-container {\n",
              "      display:flex;\n",
              "      flex-wrap:wrap;\n",
              "      gap: 12px;\n",
              "    }\n",
              "\n",
              "    .colab-df-convert {\n",
              "      background-color: #E8F0FE;\n",
              "      border: none;\n",
              "      border-radius: 50%;\n",
              "      cursor: pointer;\n",
              "      display: none;\n",
              "      fill: #1967D2;\n",
              "      height: 32px;\n",
              "      padding: 0 0 0 0;\n",
              "      width: 32px;\n",
              "    }\n",
              "\n",
              "    .colab-df-convert:hover {\n",
              "      background-color: #E2EBFA;\n",
              "      box-shadow: 0px 1px 2px rgba(60, 64, 67, 0.3), 0px 1px 3px 1px rgba(60, 64, 67, 0.15);\n",
              "      fill: #174EA6;\n",
              "    }\n",
              "\n",
              "    [theme=dark] .colab-df-convert {\n",
              "      background-color: #3B4455;\n",
              "      fill: #D2E3FC;\n",
              "    }\n",
              "\n",
              "    [theme=dark] .colab-df-convert:hover {\n",
              "      background-color: #434B5C;\n",
              "      box-shadow: 0px 1px 3px 1px rgba(0, 0, 0, 0.15);\n",
              "      filter: drop-shadow(0px 1px 2px rgba(0, 0, 0, 0.3));\n",
              "      fill: #FFFFFF;\n",
              "    }\n",
              "  </style>\n",
              "\n",
              "      <script>\n",
              "        const buttonEl =\n",
              "          document.querySelector('#df-d36e1fd4-a849-4bb9-845e-2954cb6dec1f button.colab-df-convert');\n",
              "        buttonEl.style.display =\n",
              "          google.colab.kernel.accessAllowed ? 'block' : 'none';\n",
              "\n",
              "        async function convertToInteractive(key) {\n",
              "          const element = document.querySelector('#df-d36e1fd4-a849-4bb9-845e-2954cb6dec1f');\n",
              "          const dataTable =\n",
              "            await google.colab.kernel.invokeFunction('convertToInteractive',\n",
              "                                                     [key], {});\n",
              "          if (!dataTable) return;\n",
              "\n",
              "          const docLinkHtml = 'Like what you see? Visit the ' +\n",
              "            '<a target=\"_blank\" href=https://colab.research.google.com/notebooks/data_table.ipynb>data table notebook</a>'\n",
              "            + ' to learn more about interactive tables.';\n",
              "          element.innerHTML = '';\n",
              "          dataTable['output_type'] = 'display_data';\n",
              "          await google.colab.output.renderOutput(dataTable, element);\n",
              "          const docLink = document.createElement('div');\n",
              "          docLink.innerHTML = docLinkHtml;\n",
              "          element.appendChild(docLink);\n",
              "        }\n",
              "      </script>\n",
              "    </div>\n",
              "  </div>\n",
              "  "
            ]
          },
          "metadata": {},
          "execution_count": 7
        }
      ],
      "source": [
        "rating_explicit= rating_raw[rating_raw['rating']>0]\n",
        "rating_explicit.head()"
      ]
    },
    {
      "cell_type": "code",
      "execution_count": null,
      "metadata": {
        "colab": {
          "base_uri": "https://localhost:8080/",
          "height": 300
        },
        "id": "gjAX4tUHc6fx",
        "outputId": "e5845714-dc98-4a74-b6a0-b313f943bfb2"
      },
      "outputs": [
        {
          "data": {
            "text/html": [
              "\n",
              "  <div id=\"df-4022682e-5b76-4167-96a1-6fc7818aebee\">\n",
              "    <div class=\"colab-df-container\">\n",
              "      <div>\n",
              "<style scoped>\n",
              "    .dataframe tbody tr th:only-of-type {\n",
              "        vertical-align: middle;\n",
              "    }\n",
              "\n",
              "    .dataframe tbody tr th {\n",
              "        vertical-align: top;\n",
              "    }\n",
              "\n",
              "    .dataframe thead th {\n",
              "        text-align: right;\n",
              "    }\n",
              "</style>\n",
              "<table border=\"1\" class=\"dataframe\">\n",
              "  <thead>\n",
              "    <tr style=\"text-align: right;\">\n",
              "      <th></th>\n",
              "      <th>user_id</th>\n",
              "      <th>anime_id</th>\n",
              "      <th>rating</th>\n",
              "    </tr>\n",
              "  </thead>\n",
              "  <tbody>\n",
              "    <tr>\n",
              "      <th>count</th>\n",
              "      <td>6.249526e+06</td>\n",
              "      <td>6.249526e+06</td>\n",
              "      <td>6.249526e+06</td>\n",
              "    </tr>\n",
              "    <tr>\n",
              "      <th>mean</th>\n",
              "      <td>3.673124e+04</td>\n",
              "      <td>8.942848e+03</td>\n",
              "      <td>7.824390e+00</td>\n",
              "    </tr>\n",
              "    <tr>\n",
              "      <th>std</th>\n",
              "      <td>2.102229e+04</td>\n",
              "      <td>8.905665e+03</td>\n",
              "      <td>1.559628e+00</td>\n",
              "    </tr>\n",
              "    <tr>\n",
              "      <th>min</th>\n",
              "      <td>1.000000e+00</td>\n",
              "      <td>1.000000e+00</td>\n",
              "      <td>1.000000e+00</td>\n",
              "    </tr>\n",
              "    <tr>\n",
              "      <th>25%</th>\n",
              "      <td>1.895800e+04</td>\n",
              "      <td>1.222000e+03</td>\n",
              "      <td>7.000000e+00</td>\n",
              "    </tr>\n",
              "    <tr>\n",
              "      <th>50%</th>\n",
              "      <td>3.677500e+04</td>\n",
              "      <td>6.325000e+03</td>\n",
              "      <td>8.000000e+00</td>\n",
              "    </tr>\n",
              "    <tr>\n",
              "      <th>75%</th>\n",
              "      <td>5.487300e+04</td>\n",
              "      <td>1.422700e+04</td>\n",
              "      <td>9.000000e+00</td>\n",
              "    </tr>\n",
              "    <tr>\n",
              "      <th>max</th>\n",
              "      <td>7.351600e+04</td>\n",
              "      <td>3.447500e+04</td>\n",
              "      <td>1.000000e+01</td>\n",
              "    </tr>\n",
              "  </tbody>\n",
              "</table>\n",
              "</div>\n",
              "      <button class=\"colab-df-convert\" onclick=\"convertToInteractive('df-4022682e-5b76-4167-96a1-6fc7818aebee')\"\n",
              "              title=\"Convert this dataframe to an interactive table.\"\n",
              "              style=\"display:none;\">\n",
              "        \n",
              "  <svg xmlns=\"http://www.w3.org/2000/svg\" height=\"24px\"viewBox=\"0 0 24 24\"\n",
              "       width=\"24px\">\n",
              "    <path d=\"M0 0h24v24H0V0z\" fill=\"none\"/>\n",
              "    <path d=\"M18.56 5.44l.94 2.06.94-2.06 2.06-.94-2.06-.94-.94-2.06-.94 2.06-2.06.94zm-11 1L8.5 8.5l.94-2.06 2.06-.94-2.06-.94L8.5 2.5l-.94 2.06-2.06.94zm10 10l.94 2.06.94-2.06 2.06-.94-2.06-.94-.94-2.06-.94 2.06-2.06.94z\"/><path d=\"M17.41 7.96l-1.37-1.37c-.4-.4-.92-.59-1.43-.59-.52 0-1.04.2-1.43.59L10.3 9.45l-7.72 7.72c-.78.78-.78 2.05 0 2.83L4 21.41c.39.39.9.59 1.41.59.51 0 1.02-.2 1.41-.59l7.78-7.78 2.81-2.81c.8-.78.8-2.07 0-2.86zM5.41 20L4 18.59l7.72-7.72 1.47 1.35L5.41 20z\"/>\n",
              "  </svg>\n",
              "      </button>\n",
              "      \n",
              "  <style>\n",
              "    .colab-df-container {\n",
              "      display:flex;\n",
              "      flex-wrap:wrap;\n",
              "      gap: 12px;\n",
              "    }\n",
              "\n",
              "    .colab-df-convert {\n",
              "      background-color: #E8F0FE;\n",
              "      border: none;\n",
              "      border-radius: 50%;\n",
              "      cursor: pointer;\n",
              "      display: none;\n",
              "      fill: #1967D2;\n",
              "      height: 32px;\n",
              "      padding: 0 0 0 0;\n",
              "      width: 32px;\n",
              "    }\n",
              "\n",
              "    .colab-df-convert:hover {\n",
              "      background-color: #E2EBFA;\n",
              "      box-shadow: 0px 1px 2px rgba(60, 64, 67, 0.3), 0px 1px 3px 1px rgba(60, 64, 67, 0.15);\n",
              "      fill: #174EA6;\n",
              "    }\n",
              "\n",
              "    [theme=dark] .colab-df-convert {\n",
              "      background-color: #3B4455;\n",
              "      fill: #D2E3FC;\n",
              "    }\n",
              "\n",
              "    [theme=dark] .colab-df-convert:hover {\n",
              "      background-color: #434B5C;\n",
              "      box-shadow: 0px 1px 3px 1px rgba(0, 0, 0, 0.15);\n",
              "      filter: drop-shadow(0px 1px 2px rgba(0, 0, 0, 0.3));\n",
              "      fill: #FFFFFF;\n",
              "    }\n",
              "  </style>\n",
              "\n",
              "      <script>\n",
              "        const buttonEl =\n",
              "          document.querySelector('#df-4022682e-5b76-4167-96a1-6fc7818aebee button.colab-df-convert');\n",
              "        buttonEl.style.display =\n",
              "          google.colab.kernel.accessAllowed ? 'block' : 'none';\n",
              "\n",
              "        async function convertToInteractive(key) {\n",
              "          const element = document.querySelector('#df-4022682e-5b76-4167-96a1-6fc7818aebee');\n",
              "          const dataTable =\n",
              "            await google.colab.kernel.invokeFunction('convertToInteractive',\n",
              "                                                     [key], {});\n",
              "          if (!dataTable) return;\n",
              "\n",
              "          const docLinkHtml = 'Like what you see? Visit the ' +\n",
              "            '<a target=\"_blank\" href=https://colab.research.google.com/notebooks/data_table.ipynb>data table notebook</a>'\n",
              "            + ' to learn more about interactive tables.';\n",
              "          element.innerHTML = '';\n",
              "          dataTable['output_type'] = 'display_data';\n",
              "          await google.colab.output.renderOutput(dataTable, element);\n",
              "          const docLink = document.createElement('div');\n",
              "          docLink.innerHTML = docLinkHtml;\n",
              "          element.appendChild(docLink);\n",
              "        }\n",
              "      </script>\n",
              "    </div>\n",
              "  </div>\n",
              "  "
            ],
            "text/plain": [
              "            user_id      anime_id        rating\n",
              "count  6.249526e+06  6.249526e+06  6.249526e+06\n",
              "mean   3.673124e+04  8.942848e+03  7.824390e+00\n",
              "std    2.102229e+04  8.905665e+03  1.559628e+00\n",
              "min    1.000000e+00  1.000000e+00  1.000000e+00\n",
              "25%    1.895800e+04  1.222000e+03  7.000000e+00\n",
              "50%    3.677500e+04  6.325000e+03  8.000000e+00\n",
              "75%    5.487300e+04  1.422700e+04  9.000000e+00\n",
              "max    7.351600e+04  3.447500e+04  1.000000e+01"
            ]
          },
          "execution_count": 33,
          "metadata": {},
          "output_type": "execute_result"
        }
      ],
      "source": [
        "rating_explicit.describe()"
      ]
    },
    {
      "cell_type": "code",
      "execution_count": null,
      "metadata": {
        "colab": {
          "base_uri": "https://localhost:8080/",
          "height": 295
        },
        "id": "OK3cwS5AKrvd",
        "outputId": "eb7baa69-9a42-4cf4-a169-5a3fc5f0965e"
      },
      "outputs": [
        {
          "data": {
            "image/png": "[encoded data removed]",
            "text/plain": [
              "<Figure size 432x288 with 1 Axes>"
            ]
          },
          "metadata": {},
          "output_type": "display_data"
        }
      ],
      "source": [
        "data=rating_explicit['rating']\n",
        "plt.xlabel('Vote')\n",
        "plt.ylabel('Count')\n",
        "plt.title('Votes distribution')\n",
        "plt.hist(data,bins=10,density=True) #densità di probabilità che un utente abbia assegnato voto x\n",
        "plt.show()"
      ]
    },
    {
      "cell_type": "markdown",
      "metadata": {
        "id": "h_3W2RhGsKua"
      },
      "source": [
        "Analizziamo quanti voti sono presenti nella utility matrix, quanti diversi utenti hanno votato e quanti prodotti sono stati votati"
      ]
    },
    {
      "cell_type": "markdown",
      "metadata": {
        "id": "KNjkri4suXpn"
      },
      "source": [
        "Hanno votato 69516 utenti diversi con una media di prodotti votati per utente di 89.9"
      ]
    },
    {
      "cell_type": "code",
      "execution_count": null,
      "metadata": {
        "colab": {
          "base_uri": "https://localhost:8080/"
        },
        "id": "g6UprohzkQ23",
        "outputId": "223cc29d-5ca2-4954-e7b9-c6dceaebb36e"
      },
      "outputs": [
        {
          "data": {
            "text/plain": [
              "count    69516.000000\n",
              "mean        89.900541\n",
              "std        132.837710\n",
              "min          1.000000\n",
              "25%         13.000000\n",
              "50%         44.000000\n",
              "75%        113.000000\n",
              "max       3529.000000\n",
              "Name: user_id, dtype: float64"
            ]
          },
          "execution_count": 35,
          "metadata": {},
          "output_type": "execute_result"
        }
      ],
      "source": [
        "rating_explicit['user_id'].value_counts().describe()"
      ]
    },
    {
      "cell_type": "code",
      "execution_count": null,
      "metadata": {
        "colab": {
          "base_uri": "https://localhost:8080/",
          "height": 295
        },
        "id": "jn9A5nTRBKLb",
        "outputId": "182aa9e4-6200-4b6e-8413-9cbc7807512f"
      },
      "outputs": [
        {
          "data": {
            "image/png": "[encoded data removed]",
            "text/plain": [
              "<Figure size 432x288 with 1 Axes>"
            ]
          },
          "metadata": {},
          "output_type": "display_data"
        }
      ],
      "source": [
        "data=rating_explicit.groupby('user_id')['rating'].count().clip(upper=500)\n",
        "plt.xlabel('Votes per user')\n",
        "plt.ylabel('Count')\n",
        "plt.title('Votes per user distribution')\n",
        "plt.hist(data,bins=50,density=True) #densità di probabilità che un utente abbia effettuato x voti\n",
        "plt.show()"
      ]
    },
    {
      "cell_type": "code",
      "execution_count": null,
      "metadata": {
        "colab": {
          "base_uri": "https://localhost:8080/"
        },
        "id": "2fg0DsC1kxB-",
        "outputId": "9984d197-5fd9-4cb0-a777-f03379ff15f4"
      },
      "outputs": [
        {
          "data": {
            "text/plain": [
              "count     8810.00000\n",
              "mean       709.36731\n",
              "std       1893.65342\n",
              "min          1.00000\n",
              "25%          7.00000\n",
              "50%         67.00000\n",
              "75%        495.75000\n",
              "max      34226.00000\n",
              "Name: anime_id, dtype: float64"
            ]
          },
          "execution_count": 37,
          "metadata": {},
          "output_type": "execute_result"
        }
      ],
      "source": [
        "rating_explicit['anime_id'].value_counts().describe()"
      ]
    },
    {
      "cell_type": "markdown",
      "metadata": {
        "id": "a-As2OmUuu5C"
      },
      "source": [
        "Sono stati votati 8810 diversi prodotti con una media di voti ricevuti per prodotto di 709.36. Si nota il cosiddetto fenomeno della \"long tail\" per cui solo una piccola parte dei prodotti ha ricevuto la maggior parte dei voti."
      ]
    },
    {
      "cell_type": "code",
      "execution_count": null,
      "metadata": {
        "colab": {
          "base_uri": "https://localhost:8080/",
          "height": 295
        },
        "id": "39PMG_JMD5nX",
        "outputId": "c16718c7-bcd6-4a4d-b720-d75789c366e4"
      },
      "outputs": [
        {
          "data": {
            "image/png": "[encoded data removed]",
            "text/plain": [
              "<Figure size 432x288 with 1 Axes>"
            ]
          },
          "metadata": {},
          "output_type": "display_data"
        }
      ],
      "source": [
        "data=rating_explicit.groupby('anime_id')['rating'].count().clip(upper=500)\n",
        "plt.xlabel('Votes per anime')\n",
        "plt.ylabel('Count')\n",
        "plt.title('Votes received by anime distribution')\n",
        "plt.hist(data,bins=50,density=True) #densità di probabilità che un anime abbia ricevuto x voti\n",
        "plt.show()"
      ]
    },
    {
      "cell_type": "markdown",
      "metadata": {
        "id": "CGcB-NWCFqo9"
      },
      "source": [
        "Si può notare vedendo le figure prodotte che sia il numero di voti effettuati dagli utenti, sia il numero di voti ricevuti dai prodotti non hanno distribuzione normale. Si utilizza quindi la mediana come indice di posizione più rilevante."
      ]
    },
    {
      "cell_type": "code",
      "execution_count": null,
      "metadata": {
        "colab": {
          "base_uri": "https://localhost:8080/"
        },
        "id": "t39OBo0DFpBQ",
        "outputId": "8def1304-2f1c-4ee2-cc23-040929aac03d"
      },
      "outputs": [
        {
          "name": "stdout",
          "output_type": "stream",
          "text": [
            "mediana dei voti effettuati dagli utenti:  44.0\n",
            "mediana dei voti ricevuti dai prodotti:  67.0\n"
          ]
        }
      ],
      "source": [
        "print('mediana dei voti effettuati dagli utenti: ', rating_explicit['user_id'].value_counts().median())\n",
        "print('mediana dei voti ricevuti dai prodotti: ', rating_explicit['anime_id'].value_counts().median())"
      ]
    },
    {
      "cell_type": "markdown",
      "metadata": {
        "id": "IdVpcu_kmrtb"
      },
      "source": [
        "## Parte 2: Feature engineering "
      ]
    },
    {
      "cell_type": "markdown",
      "metadata": {
        "id": "hk_5gC0NJPpt"
      },
      "source": [
        "### Selezione utenti e prodotti rilevanti\n",
        "\n",
        "La maggior parte degli utenti ha espresso un numero estremamente limitato di giudizi pertanto si sceglie di escludere quegli utenti con un numero estremamente basso di voti. Si escludono anche i prodotti con un numero estremamente basso di giudizi."
      ]
    },
    {
      "cell_type": "code",
      "execution_count": null,
      "metadata": {
        "colab": {
          "base_uri": "https://localhost:8080/"
        },
        "id": "9OilJhQVnfcG",
        "outputId": "7574c4b4-6893-4692-ea37-58b830e3c5bb"
      },
      "outputs": [
        {
          "output_type": "stream",
          "name": "stdout",
          "text": [
            "The original data frame shape:\t(6249526, 3)\n",
            "The new data frame shape:\t(1645405, 3)\n"
          ]
        }
      ],
      "source": [
        "min_anime_ratings = 1500\n",
        "filter_anime = rating_explicit['anime_id'].value_counts() > min_anime_ratings\n",
        "filter_anime = filter_anime[filter_anime].index.tolist()\n",
        "\n",
        "min_user_ratings = 250\n",
        "filter_users = rating_explicit['user_id'].value_counts() > min_user_ratings\n",
        "filter_users = filter_users[filter_users].index.tolist()\n",
        "\n",
        "rating_new = rating_explicit[(rating_explicit['anime_id'].isin(filter_anime)) & (rating_explicit['user_id'].isin(filter_users))]\n",
        "print('Dataframe originale:\\t{}'.format(rating_explicit.shape))\n",
        "print('Nuovo Dataframe:\\t{}'.format(rating_new.shape))"
      ]
    },
    {
      "cell_type": "code",
      "execution_count": null,
      "metadata": {
        "colab": {
          "base_uri": "https://localhost:8080/"
        },
        "id": "Tfhw-Na9W88W",
        "outputId": "123a54d8-6d05-40d3-841c-0b0e4d7c8d36"
      },
      "outputs": [
        {
          "data": {
            "text/plain": [
              "57620    662\n",
              "45659    649\n",
              "42635    641\n",
              "59643    631\n",
              "8115     594\n",
              "        ... \n",
              "53276     55\n",
              "7527      52\n",
              "21568     45\n",
              "67554     44\n",
              "23395     34\n",
              "Name: user_id, Length: 5887, dtype: int64"
            ]
          },
          "execution_count": 42,
          "metadata": {},
          "output_type": "execute_result"
        }
      ],
      "source": [
        "rating_new['user_id'].value_counts()"
      ]
    },
    {
      "cell_type": "markdown",
      "metadata": {
        "id": "Exa6JvkEQwGL"
      },
      "source": [
        "Eliminiamo anche gli utenti con un numero anomalo di voti"
      ]
    },
    {
      "cell_type": "code",
      "execution_count": null,
      "metadata": {
        "colab": {
          "base_uri": "https://localhost:8080/"
        },
        "id": "ExflrELrUOx3",
        "outputId": "922f8f16-793c-47eb-bde2-940a497913fc"
      },
      "outputs": [
        {
          "output_type": "execute_result",
          "data": {
            "text/plain": [
              "444.0"
            ]
          },
          "metadata": {},
          "execution_count": 9
        }
      ],
      "source": [
        "cap=rating_explicit['user_id'].value_counts().quantile(0.975)\n",
        "cap"
      ]
    },
    {
      "cell_type": "code",
      "execution_count": null,
      "metadata": {
        "colab": {
          "base_uri": "https://localhost:8080/"
        },
        "id": "o3l6a6P2R79a",
        "outputId": "de1ea342-f5cc-4289-ab28-c9bc9ab59b59"
      },
      "outputs": [
        {
          "output_type": "stream",
          "name": "stdout",
          "text": [
            "The new data frame shape:\t(966527, 3)\n"
          ]
        }
      ],
      "source": [
        "filter_cap= rating_explicit['user_id'].value_counts()<cap\n",
        "filter_cap=filter_cap[filter_cap].index.tolist()\n",
        "rating_new= rating_new[rating_new['user_id'].isin(filter_cap)]\n",
        "print('Nuovo Dataframe:\\t{}'.format(rating_new.shape))"
      ]
    },
    {
      "cell_type": "markdown",
      "metadata": {
        "id": "oQKa99aXK5WQ"
      },
      "source": [
        "Controllo la presenza di duplicati ed eventualmente li rimuovo."
      ]
    },
    {
      "cell_type": "code",
      "execution_count": null,
      "metadata": {
        "id": "g53K_g2qK4gl"
      },
      "outputs": [],
      "source": [
        "dup_rating = rating_new[rating_new.duplicated()].shape[0]\n",
        "rating_new.drop_duplicates(keep='first',inplace=True)"
      ]
    },
    {
      "cell_type": "code",
      "execution_count": null,
      "metadata": {
        "colab": {
          "base_uri": "https://localhost:8080/"
        },
        "id": "8NhqJPcuF3mw",
        "outputId": "ed01c613-04c7-48ab-ba31-daf8429a60ad"
      },
      "outputs": [
        {
          "output_type": "execute_result",
          "data": {
            "text/plain": [
              "1081"
            ]
          },
          "metadata": {},
          "execution_count": 12
        }
      ],
      "source": [
        "rating_new['anime_id'].nunique()"
      ]
    },
    {
      "cell_type": "code",
      "execution_count": null,
      "metadata": {
        "colab": {
          "base_uri": "https://localhost:8080/"
        },
        "id": "Kf55XXM9BGHX",
        "outputId": "9310815d-de04-47c4-cd17-ee939ab8b9d7"
      },
      "outputs": [
        {
          "output_type": "execute_result",
          "data": {
            "text/plain": [
              "4143"
            ]
          },
          "metadata": {},
          "execution_count": 11
        }
      ],
      "source": [
        "rating_new['user_id'].nunique()"
      ]
    },
    {
      "cell_type": "markdown",
      "metadata": {
        "id": "Hcoy16TUcUIt"
      },
      "source": [
        "Creo train e test split"
      ]
    },
    {
      "cell_type": "code",
      "execution_count": null,
      "metadata": {
        "id": "BE_BXg4TeimR"
      },
      "outputs": [],
      "source": [
        "rating_train,rating_test= sklearn.model_selection.train_test_split(rating_new,test_size=0.25,random_state=42)"
      ]
    },
    {
      "cell_type": "code",
      "execution_count": null,
      "metadata": {
        "colab": {
          "base_uri": "https://localhost:8080/"
        },
        "id": "y4M4R74LfNOF",
        "outputId": "b8e9da3a-6385-4a0a-9f5d-858719a2c71e"
      },
      "outputs": [
        {
          "data": {
            "text/plain": [
              "(724895, 3)"
            ]
          },
          "execution_count": 37,
          "metadata": {},
          "output_type": "execute_result"
        }
      ],
      "source": [
        "rating_train.shape"
      ]
    },
    {
      "cell_type": "code",
      "execution_count": null,
      "metadata": {
        "colab": {
          "base_uri": "https://localhost:8080/"
        },
        "id": "hb2bzix1zx6Z",
        "outputId": "e571e461-3d9a-455a-9ebe-d721c144f849"
      },
      "outputs": [
        {
          "data": {
            "text/plain": [
              "(241632, 3)"
            ]
          },
          "execution_count": 38,
          "metadata": {},
          "output_type": "execute_result"
        }
      ],
      "source": [
        "rating_test.shape"
      ]
    },
    {
      "cell_type": "code",
      "execution_count": null,
      "metadata": {
        "colab": {
          "base_uri": "https://localhost:8080/",
          "height": 363
        },
        "id": "lJ-naoIbfTSv",
        "outputId": "b58e8c41-032c-4fae-b189-764b4c485cdb"
      },
      "outputs": [
        {
          "output_type": "execute_result",
          "data": {
            "text/plain": [
              "         user_id  anime_id    rating\n",
              "177728        95       280 -0.562556\n",
              "4155425     2226       631 -0.562556\n",
              "4372743     2355      1031  0.111987\n",
              "4231829     2267       580 -0.562556\n",
              "4886009     2644       795 -0.562556\n",
              "5973415     3229       327  0.786530\n",
              "5267894     2848       535  0.786530\n",
              "7120619     3879       590 -1.237100\n",
              "3763028     2040       796  0.111987\n",
              "3347238     1827       610 -1.911643"
            ],
            "text/html": [
              "\n",
              "  <div id=\"df-58d6d398-9ddf-41a4-9a01-800b76253ee4\">\n",
              "    <div class=\"colab-df-container\">\n",
              "      <div>\n",
              "<style scoped>\n",
              "    .dataframe tbody tr th:only-of-type {\n",
              "        vertical-align: middle;\n",
              "    }\n",
              "\n",
              "    .dataframe tbody tr th {\n",
              "        vertical-align: top;\n",
              "    }\n",
              "\n",
              "    .dataframe thead th {\n",
              "        text-align: right;\n",
              "    }\n",
              "</style>\n",
              "<table border=\"1\" class=\"dataframe\">\n",
              "  <thead>\n",
              "    <tr style=\"text-align: right;\">\n",
              "      <th></th>\n",
              "      <th>user_id</th>\n",
              "      <th>anime_id</th>\n",
              "      <th>rating</th>\n",
              "    </tr>\n",
              "  </thead>\n",
              "  <tbody>\n",
              "    <tr>\n",
              "      <th>177728</th>\n",
              "      <td>95</td>\n",
              "      <td>280</td>\n",
              "      <td>-0.562556</td>\n",
              "    </tr>\n",
              "    <tr>\n",
              "      <th>4155425</th>\n",
              "      <td>2226</td>\n",
              "      <td>631</td>\n",
              "      <td>-0.562556</td>\n",
              "    </tr>\n",
              "    <tr>\n",
              "      <th>4372743</th>\n",
              "      <td>2355</td>\n",
              "      <td>1031</td>\n",
              "      <td>0.111987</td>\n",
              "    </tr>\n",
              "    <tr>\n",
              "      <th>4231829</th>\n",
              "      <td>2267</td>\n",
              "      <td>580</td>\n",
              "      <td>-0.562556</td>\n",
              "    </tr>\n",
              "    <tr>\n",
              "      <th>4886009</th>\n",
              "      <td>2644</td>\n",
              "      <td>795</td>\n",
              "      <td>-0.562556</td>\n",
              "    </tr>\n",
              "    <tr>\n",
              "      <th>5973415</th>\n",
              "      <td>3229</td>\n",
              "      <td>327</td>\n",
              "      <td>0.786530</td>\n",
              "    </tr>\n",
              "    <tr>\n",
              "      <th>5267894</th>\n",
              "      <td>2848</td>\n",
              "      <td>535</td>\n",
              "      <td>0.786530</td>\n",
              "    </tr>\n",
              "    <tr>\n",
              "      <th>7120619</th>\n",
              "      <td>3879</td>\n",
              "      <td>590</td>\n",
              "      <td>-1.237100</td>\n",
              "    </tr>\n",
              "    <tr>\n",
              "      <th>3763028</th>\n",
              "      <td>2040</td>\n",
              "      <td>796</td>\n",
              "      <td>0.111987</td>\n",
              "    </tr>\n",
              "    <tr>\n",
              "      <th>3347238</th>\n",
              "      <td>1827</td>\n",
              "      <td>610</td>\n",
              "      <td>-1.911643</td>\n",
              "    </tr>\n",
              "  </tbody>\n",
              "</table>\n",
              "</div>\n",
              "      <button class=\"colab-df-convert\" onclick=\"convertToInteractive('df-58d6d398-9ddf-41a4-9a01-800b76253ee4')\"\n",
              "              title=\"Convert this dataframe to an interactive table.\"\n",
              "              style=\"display:none;\">\n",
              "        \n",
              "  <svg xmlns=\"http://www.w3.org/2000/svg\" height=\"24px\"viewBox=\"0 0 24 24\"\n",
              "       width=\"24px\">\n",
              "    <path d=\"M0 0h24v24H0V0z\" fill=\"none\"/>\n",
              "    <path d=\"M18.56 5.44l.94 2.06.94-2.06 2.06-.94-2.06-.94-.94-2.06-.94 2.06-2.06.94zm-11 1L8.5 8.5l.94-2.06 2.06-.94-2.06-.94L8.5 2.5l-.94 2.06-2.06.94zm10 10l.94 2.06.94-2.06 2.06-.94-2.06-.94-.94-2.06-.94 2.06-2.06.94z\"/><path d=\"M17.41 7.96l-1.37-1.37c-.4-.4-.92-.59-1.43-.59-.52 0-1.04.2-1.43.59L10.3 9.45l-7.72 7.72c-.78.78-.78 2.05 0 2.83L4 21.41c.39.39.9.59 1.41.59.51 0 1.02-.2 1.41-.59l7.78-7.78 2.81-2.81c.8-.78.8-2.07 0-2.86zM5.41 20L4 18.59l7.72-7.72 1.47 1.35L5.41 20z\"/>\n",
              "  </svg>\n",
              "      </button>\n",
              "      \n",
              "  <style>\n",
              "    .colab-df-container {\n",
              "      display:flex;\n",
              "      flex-wrap:wrap;\n",
              "      gap: 12px;\n",
              "    }\n",
              "\n",
              "    .colab-df-convert {\n",
              "      background-color: #E8F0FE;\n",
              "      border: none;\n",
              "      border-radius: 50%;\n",
              "      cursor: pointer;\n",
              "      display: none;\n",
              "      fill: #1967D2;\n",
              "      height: 32px;\n",
              "      padding: 0 0 0 0;\n",
              "      width: 32px;\n",
              "    }\n",
              "\n",
              "    .colab-df-convert:hover {\n",
              "      background-color: #E2EBFA;\n",
              "      box-shadow: 0px 1px 2px rgba(60, 64, 67, 0.3), 0px 1px 3px 1px rgba(60, 64, 67, 0.15);\n",
              "      fill: #174EA6;\n",
              "    }\n",
              "\n",
              "    [theme=dark] .colab-df-convert {\n",
              "      background-color: #3B4455;\n",
              "      fill: #D2E3FC;\n",
              "    }\n",
              "\n",
              "    [theme=dark] .colab-df-convert:hover {\n",
              "      background-color: #434B5C;\n",
              "      box-shadow: 0px 1px 3px 1px rgba(0, 0, 0, 0.15);\n",
              "      filter: drop-shadow(0px 1px 2px rgba(0, 0, 0, 0.3));\n",
              "      fill: #FFFFFF;\n",
              "    }\n",
              "  </style>\n",
              "\n",
              "      <script>\n",
              "        const buttonEl =\n",
              "          document.querySelector('#df-58d6d398-9ddf-41a4-9a01-800b76253ee4 button.colab-df-convert');\n",
              "        buttonEl.style.display =\n",
              "          google.colab.kernel.accessAllowed ? 'block' : 'none';\n",
              "\n",
              "        async function convertToInteractive(key) {\n",
              "          const element = document.querySelector('#df-58d6d398-9ddf-41a4-9a01-800b76253ee4');\n",
              "          const dataTable =\n",
              "            await google.colab.kernel.invokeFunction('convertToInteractive',\n",
              "                                                     [key], {});\n",
              "          if (!dataTable) return;\n",
              "\n",
              "          const docLinkHtml = 'Like what you see? Visit the ' +\n",
              "            '<a target=\"_blank\" href=https://colab.research.google.com/notebooks/data_table.ipynb>data table notebook</a>'\n",
              "            + ' to learn more about interactive tables.';\n",
              "          element.innerHTML = '';\n",
              "          dataTable['output_type'] = 'display_data';\n",
              "          await google.colab.output.renderOutput(dataTable, element);\n",
              "          const docLink = document.createElement('div');\n",
              "          docLink.innerHTML = docLinkHtml;\n",
              "          element.appendChild(docLink);\n",
              "        }\n",
              "      </script>\n",
              "    </div>\n",
              "  </div>\n",
              "  "
            ]
          },
          "metadata": {},
          "execution_count": 56
        }
      ],
      "source": [
        "rating_train.head(10)"
      ]
    },
    {
      "cell_type": "code",
      "execution_count": null,
      "metadata": {
        "colab": {
          "base_uri": "https://localhost:8080/"
        },
        "id": "BYZVjaDfftME",
        "outputId": "f6822cc5-2be6-46b7-e747-2fbaa940407f"
      },
      "outputs": [
        {
          "data": {
            "text/plain": [
              "count    4143.000000\n",
              "mean      174.968622\n",
              "std        37.226401\n",
              "min        37.000000\n",
              "25%       151.000000\n",
              "50%       174.000000\n",
              "75%       199.000000\n",
              "max       301.000000\n",
              "Name: user_id, dtype: float64"
            ]
          },
          "execution_count": 60,
          "metadata": {},
          "output_type": "execute_result"
        }
      ],
      "source": [
        "rating_train['user_id'].value_counts().describe()\n"
      ]
    },
    {
      "cell_type": "markdown",
      "metadata": {
        "id": "Wukweh46PTL4"
      },
      "source": [
        "## Parte 3: Modelli di Learning"
      ]
    },
    {
      "cell_type": "markdown",
      "metadata": {
        "id": "OWdFJcK8V1z7"
      },
      "source": [
        "Partiamo con l'utilizzo della libreria surprise per fare training e confronto di diversi modelli di recommendation.\n",
        "Per prima cosa importiamo gli algoritmi e le utilities necessarie utilizzati."
      ]
    },
    {
      "cell_type": "code",
      "execution_count": null,
      "metadata": {
        "id": "OF6BLLdu_adG"
      },
      "outputs": [],
      "source": [
        "from surprise import Reader\n",
        "from surprise import Dataset\n",
        "from surprise.model_selection import cross_validate\n",
        "from surprise.model_selection import KFold, GridSearchCV\n",
        "from surprise import NormalPredictor,SVD, SlopeOne, NMF,KNNBasic,SVDpp\n",
        "from surprise.accuracy import rmse,mae\n",
        "from surprise import accuracy\n",
        "from surprise.model_selection import train_test_split"
      ]
    },
    {
      "cell_type": "markdown",
      "metadata": {
        "id": "LlDhAFupAYlj"
      },
      "source": [
        "Creiamo poi l'oggetto Reader che servirà per leggere la utility matrix e convertiamo il nostro dataframe in un Dataset utilizzabile con surprise"
      ]
    },
    {
      "cell_type": "code",
      "execution_count": null,
      "metadata": {
        "id": "14ih5VE8AlmL"
      },
      "outputs": [],
      "source": [
        "reader= Reader(rating_scale=(1,10))\n",
        "dataset_test=Dataset.load_from_df(rating_test,reader)\n",
        "dataset_train=Dataset.load_from_df(rating_train,reader)"
      ]
    },
    {
      "cell_type": "markdown",
      "metadata": {
        "id": "VeEAizmwC6bm"
      },
      "source": [
        "E l'oggetto kf per la k-fold crossvalidation"
      ]
    },
    {
      "cell_type": "code",
      "execution_count": null,
      "metadata": {
        "id": "Ti3epec2Cw4P"
      },
      "outputs": [],
      "source": [
        "kf = KFold(n_splits=3, shuffle=True, random_state=42)"
      ]
    },
    {
      "cell_type": "code",
      "execution_count": null,
      "metadata": {
        "id": "wrApnLAoDSJx"
      },
      "outputs": [],
      "source": [
        "datatrain=dataset_train.build_full_trainset()"
      ]
    },
    {
      "cell_type": "code",
      "execution_count": null,
      "metadata": {
        "id": "YnSvoGB3DkjI"
      },
      "outputs": [],
      "source": [
        "datatest=dataset_test.build_full_trainset().build_testset()"
      ]
    },
    {
      "cell_type": "markdown",
      "metadata": {
        "id": "lqzuvg6KEUJ6"
      },
      "source": [
        "Le misure utilizzate per valutare la bontà del modello saranno MAE e RMSE."
      ]
    },
    {
      "cell_type": "markdown",
      "metadata": {
        "id": "vTeDV6JZfDK4"
      },
      "source": [
        "##Normal Predictor\n",
        "Utilizziamo Normal Predictor, un modello che predice voti casuali con distribuzione normale,per avere una baseline con cui confrontare la bontà dei modelli successivamente addestrati."
      ]
    },
    {
      "cell_type": "code",
      "execution_count": null,
      "metadata": {
        "colab": {
          "base_uri": "https://localhost:8080/"
        },
        "id": "u1GqVIYpf5VD",
        "outputId": "730fde6e-0ee4-44ce-d5d8-2b01de070f09"
      },
      "outputs": [
        {
          "data": {
            "text/plain": [
              "<surprise.prediction_algorithms.random_pred.NormalPredictor at 0x7f08c5cbba90>"
            ]
          },
          "execution_count": 66,
          "metadata": {},
          "output_type": "execute_result"
        }
      ],
      "source": [
        "np.random.seed(42)\n",
        "Normal= NormalPredictor()\n",
        "Normal.fit(datatrain)"
      ]
    },
    {
      "cell_type": "code",
      "execution_count": null,
      "metadata": {
        "colab": {
          "base_uri": "https://localhost:8080/"
        },
        "id": "q6di6FG8gH8U",
        "outputId": "108248c5-278d-4278-9e88-8bdd5ec2d881"
      },
      "outputs": [
        {
          "name": "stdout",
          "output_type": "stream",
          "text": [
            "RMSE: 2.0326\n",
            "MAE:  1.6130\n"
          ]
        },
        {
          "data": {
            "text/plain": [
              "(2.0326119639194156, 1.6129973037775212)"
            ]
          },
          "execution_count": 67,
          "metadata": {},
          "output_type": "execute_result"
        }
      ],
      "source": [
        "rpred=Normal.test(datatest)\n",
        "rmse(rpred),mae(rpred)"
      ]
    },
    {
      "cell_type": "markdown",
      "metadata": {
        "id": "akU-D-dbgsuJ"
      },
      "source": [
        "Il modello casuale genera un RMSE di 2.0 ed un MAE di 1.6. Useremo questi valori come baseline per valutare la bontà delle predizione dei modelli successivi."
      ]
    },
    {
      "cell_type": "markdown",
      "metadata": {
        "id": "0oEBS9ql-NKY"
      },
      "source": [
        "## KNN K-Nearest Neighbor\n",
        "Il primo modello valutato è KNN che utilizza le informazioni dei K utenti più simili per effettuare una predizione dei gusti dell'utente target."
      ]
    },
    {
      "cell_type": "markdown",
      "metadata": {
        "id": "pPYZlSzo5cxn"
      },
      "source": [
        "Cerco gli iperparametri ottimali tramite grid search. Per questioni di tempo di training cerco solo tra 3 valori possibili di k (numero di utenti simili) e utilizzo solo la similarità coseno come misura di similarità in quanto generalmente offre risultati migliori rispetto a Pearson."
      ]
    },
    {
      "cell_type": "code",
      "execution_count": null,
      "metadata": {
        "id": "2z1TYnK9PXiI"
      },
      "outputs": [],
      "source": [
        "gridknn = {\"k\": [5,25,40],\n",
        "        \"sim_options\": {\"name\":[\"cosine\"]}\n",
        "        }"
      ]
    },
    {
      "cell_type": "code",
      "execution_count": null,
      "metadata": {
        "colab": {
          "base_uri": "https://localhost:8080/"
        },
        "id": "s9ESWwhTmSD2",
        "outputId": "a088021a-d2be-4fd4-a4f2-4cdc0fbfba6c"
      },
      "outputs": [
        {
          "name": "stdout",
          "output_type": "stream",
          "text": [
            "Computing the cosine similarity matrix...\n",
            "Done computing similarity matrix.\n",
            "Computing the cosine similarity matrix...\n",
            "Done computing similarity matrix.\n",
            "Computing the cosine similarity matrix...\n",
            "Done computing similarity matrix.\n",
            "Computing the cosine similarity matrix...\n",
            "Done computing similarity matrix.\n",
            "Computing the cosine similarity matrix...\n",
            "Done computing similarity matrix.\n",
            "Computing the cosine similarity matrix...\n",
            "Done computing similarity matrix.\n",
            "Computing the cosine similarity matrix...\n",
            "Done computing similarity matrix.\n",
            "Computing the cosine similarity matrix...\n",
            "Done computing similarity matrix.\n",
            "Computing the cosine similarity matrix...\n",
            "Done computing similarity matrix.\n",
            "Computing the cosine similarity matrix...\n",
            "Done computing similarity matrix.\n"
          ]
        }
      ],
      "source": [
        "gsknn=GridSearchCV(KNNBasic,gridknn,cv=kf,refit=True)\n",
        "gsknn.fit(dataset_train)"
      ]
    },
    {
      "cell_type": "code",
      "execution_count": null,
      "metadata": {
        "colab": {
          "base_uri": "https://localhost:8080/",
          "height": 364
        },
        "id": "DE4_lzH0hsg_",
        "outputId": "fb24acdb-c3e2-49d6-874a-2a51b474183d"
      },
      "outputs": [
        {
          "data": {
            "text/html": [
              "\n",
              "  <div id=\"df-dc7478a8-6c3e-4070-9c6a-d5aa548e41b6\">\n",
              "    <div class=\"colab-df-container\">\n",
              "      <div>\n",
              "<style scoped>\n",
              "    .dataframe tbody tr th:only-of-type {\n",
              "        vertical-align: middle;\n",
              "    }\n",
              "\n",
              "    .dataframe tbody tr th {\n",
              "        vertical-align: top;\n",
              "    }\n",
              "\n",
              "    .dataframe thead th {\n",
              "        text-align: right;\n",
              "    }\n",
              "</style>\n",
              "<table border=\"1\" class=\"dataframe\">\n",
              "  <thead>\n",
              "    <tr style=\"text-align: right;\">\n",
              "      <th></th>\n",
              "      <th>split0_test_rmse</th>\n",
              "      <th>split1_test_rmse</th>\n",
              "      <th>split2_test_rmse</th>\n",
              "      <th>mean_test_rmse</th>\n",
              "      <th>std_test_rmse</th>\n",
              "      <th>rank_test_rmse</th>\n",
              "      <th>split0_test_mae</th>\n",
              "      <th>split1_test_mae</th>\n",
              "      <th>split2_test_mae</th>\n",
              "      <th>mean_test_mae</th>\n",
              "      <th>std_test_mae</th>\n",
              "      <th>rank_test_mae</th>\n",
              "      <th>mean_fit_time</th>\n",
              "      <th>std_fit_time</th>\n",
              "      <th>mean_test_time</th>\n",
              "      <th>std_test_time</th>\n",
              "      <th>params</th>\n",
              "      <th>param_k</th>\n",
              "      <th>param_sim_options</th>\n",
              "    </tr>\n",
              "  </thead>\n",
              "  <tbody>\n",
              "    <tr>\n",
              "      <th>2</th>\n",
              "      <td>1.343576</td>\n",
              "      <td>1.347310</td>\n",
              "      <td>1.346714</td>\n",
              "      <td>1.345866</td>\n",
              "      <td>0.001638</td>\n",
              "      <td>1</td>\n",
              "      <td>1.030336</td>\n",
              "      <td>1.032008</td>\n",
              "      <td>1.030696</td>\n",
              "      <td>1.031013</td>\n",
              "      <td>0.000718</td>\n",
              "      <td>1</td>\n",
              "      <td>34.068382</td>\n",
              "      <td>0.061560</td>\n",
              "      <td>155.237614</td>\n",
              "      <td>0.493952</td>\n",
              "      <td>{'k': 40, 'sim_options': {'name': 'cosine', 'u...</td>\n",
              "      <td>40</td>\n",
              "      <td>{'name': 'cosine', 'user_based': True}</td>\n",
              "    </tr>\n",
              "    <tr>\n",
              "      <th>1</th>\n",
              "      <td>1.352403</td>\n",
              "      <td>1.356203</td>\n",
              "      <td>1.354748</td>\n",
              "      <td>1.354451</td>\n",
              "      <td>0.001565</td>\n",
              "      <td>2</td>\n",
              "      <td>1.036816</td>\n",
              "      <td>1.038324</td>\n",
              "      <td>1.036334</td>\n",
              "      <td>1.037158</td>\n",
              "      <td>0.000848</td>\n",
              "      <td>2</td>\n",
              "      <td>33.820288</td>\n",
              "      <td>0.357961</td>\n",
              "      <td>144.586630</td>\n",
              "      <td>1.389610</td>\n",
              "      <td>{'k': 25, 'sim_options': {'name': 'cosine', 'u...</td>\n",
              "      <td>25</td>\n",
              "      <td>{'name': 'cosine', 'user_based': True}</td>\n",
              "    </tr>\n",
              "    <tr>\n",
              "      <th>0</th>\n",
              "      <td>1.455481</td>\n",
              "      <td>1.455048</td>\n",
              "      <td>1.451962</td>\n",
              "      <td>1.454164</td>\n",
              "      <td>0.001567</td>\n",
              "      <td>3</td>\n",
              "      <td>1.115222</td>\n",
              "      <td>1.113212</td>\n",
              "      <td>1.109867</td>\n",
              "      <td>1.112767</td>\n",
              "      <td>0.002209</td>\n",
              "      <td>3</td>\n",
              "      <td>37.687032</td>\n",
              "      <td>1.373760</td>\n",
              "      <td>138.226736</td>\n",
              "      <td>8.664126</td>\n",
              "      <td>{'k': 5, 'sim_options': {'name': 'cosine', 'us...</td>\n",
              "      <td>5</td>\n",
              "      <td>{'name': 'cosine', 'user_based': True}</td>\n",
              "    </tr>\n",
              "  </tbody>\n",
              "</table>\n",
              "</div>\n",
              "      <button class=\"colab-df-convert\" onclick=\"convertToInteractive('df-dc7478a8-6c3e-4070-9c6a-d5aa548e41b6')\"\n",
              "              title=\"Convert this dataframe to an interactive table.\"\n",
              "              style=\"display:none;\">\n",
              "        \n",
              "  <svg xmlns=\"http://www.w3.org/2000/svg\" height=\"24px\"viewBox=\"0 0 24 24\"\n",
              "       width=\"24px\">\n",
              "    <path d=\"M0 0h24v24H0V0z\" fill=\"none\"/>\n",
              "    <path d=\"M18.56 5.44l.94 2.06.94-2.06 2.06-.94-2.06-.94-.94-2.06-.94 2.06-2.06.94zm-11 1L8.5 8.5l.94-2.06 2.06-.94-2.06-.94L8.5 2.5l-.94 2.06-2.06.94zm10 10l.94 2.06.94-2.06 2.06-.94-2.06-.94-.94-2.06-.94 2.06-2.06.94z\"/><path d=\"M17.41 7.96l-1.37-1.37c-.4-.4-.92-.59-1.43-.59-.52 0-1.04.2-1.43.59L10.3 9.45l-7.72 7.72c-.78.78-.78 2.05 0 2.83L4 21.41c.39.39.9.59 1.41.59.51 0 1.02-.2 1.41-.59l7.78-7.78 2.81-2.81c.8-.78.8-2.07 0-2.86zM5.41 20L4 18.59l7.72-7.72 1.47 1.35L5.41 20z\"/>\n",
              "  </svg>\n",
              "      </button>\n",
              "      \n",
              "  <style>\n",
              "    .colab-df-container {\n",
              "      display:flex;\n",
              "      flex-wrap:wrap;\n",
              "      gap: 12px;\n",
              "    }\n",
              "\n",
              "    .colab-df-convert {\n",
              "      background-color: #E8F0FE;\n",
              "      border: none;\n",
              "      border-radius: 50%;\n",
              "      cursor: pointer;\n",
              "      display: none;\n",
              "      fill: #1967D2;\n",
              "      height: 32px;\n",
              "      padding: 0 0 0 0;\n",
              "      width: 32px;\n",
              "    }\n",
              "\n",
              "    .colab-df-convert:hover {\n",
              "      background-color: #E2EBFA;\n",
              "      box-shadow: 0px 1px 2px rgba(60, 64, 67, 0.3), 0px 1px 3px 1px rgba(60, 64, 67, 0.15);\n",
              "      fill: #174EA6;\n",
              "    }\n",
              "\n",
              "    [theme=dark] .colab-df-convert {\n",
              "      background-color: #3B4455;\n",
              "      fill: #D2E3FC;\n",
              "    }\n",
              "\n",
              "    [theme=dark] .colab-df-convert:hover {\n",
              "      background-color: #434B5C;\n",
              "      box-shadow: 0px 1px 3px 1px rgba(0, 0, 0, 0.15);\n",
              "      filter: drop-shadow(0px 1px 2px rgba(0, 0, 0, 0.3));\n",
              "      fill: #FFFFFF;\n",
              "    }\n",
              "  </style>\n",
              "\n",
              "      <script>\n",
              "        const buttonEl =\n",
              "          document.querySelector('#df-dc7478a8-6c3e-4070-9c6a-d5aa548e41b6 button.colab-df-convert');\n",
              "        buttonEl.style.display =\n",
              "          google.colab.kernel.accessAllowed ? 'block' : 'none';\n",
              "\n",
              "        async function convertToInteractive(key) {\n",
              "          const element = document.querySelector('#df-dc7478a8-6c3e-4070-9c6a-d5aa548e41b6');\n",
              "          const dataTable =\n",
              "            await google.colab.kernel.invokeFunction('convertToInteractive',\n",
              "                                                     [key], {});\n",
              "          if (!dataTable) return;\n",
              "\n",
              "          const docLinkHtml = 'Like what you see? Visit the ' +\n",
              "            '<a target=\"_blank\" href=https://colab.research.google.com/notebooks/data_table.ipynb>data table notebook</a>'\n",
              "            + ' to learn more about interactive tables.';\n",
              "          element.innerHTML = '';\n",
              "          dataTable['output_type'] = 'display_data';\n",
              "          await google.colab.output.renderOutput(dataTable, element);\n",
              "          const docLink = document.createElement('div');\n",
              "          docLink.innerHTML = docLinkHtml;\n",
              "          element.appendChild(docLink);\n",
              "        }\n",
              "      </script>\n",
              "    </div>\n",
              "  </div>\n",
              "  "
            ],
            "text/plain": [
              "   split0_test_rmse  split1_test_rmse  split2_test_rmse  mean_test_rmse  \\\n",
              "2          1.343576          1.347310          1.346714        1.345866   \n",
              "1          1.352403          1.356203          1.354748        1.354451   \n",
              "0          1.455481          1.455048          1.451962        1.454164   \n",
              "\n",
              "   std_test_rmse  rank_test_rmse  split0_test_mae  split1_test_mae  \\\n",
              "2       0.001638               1         1.030336         1.032008   \n",
              "1       0.001565               2         1.036816         1.038324   \n",
              "0       0.001567               3         1.115222         1.113212   \n",
              "\n",
              "   split2_test_mae  mean_test_mae  std_test_mae  rank_test_mae  mean_fit_time  \\\n",
              "2         1.030696       1.031013      0.000718              1      34.068382   \n",
              "1         1.036334       1.037158      0.000848              2      33.820288   \n",
              "0         1.109867       1.112767      0.002209              3      37.687032   \n",
              "\n",
              "   std_fit_time  mean_test_time  std_test_time  \\\n",
              "2      0.061560      155.237614       0.493952   \n",
              "1      0.357961      144.586630       1.389610   \n",
              "0      1.373760      138.226736       8.664126   \n",
              "\n",
              "                                              params  param_k  \\\n",
              "2  {'k': 40, 'sim_options': {'name': 'cosine', 'u...       40   \n",
              "1  {'k': 25, 'sim_options': {'name': 'cosine', 'u...       25   \n",
              "0  {'k': 5, 'sim_options': {'name': 'cosine', 'us...        5   \n",
              "\n",
              "                        param_sim_options  \n",
              "2  {'name': 'cosine', 'user_based': True}  \n",
              "1  {'name': 'cosine', 'user_based': True}  \n",
              "0  {'name': 'cosine', 'user_based': True}  "
            ]
          },
          "execution_count": 72,
          "metadata": {},
          "output_type": "execute_result"
        }
      ],
      "source": [
        "pd.DataFrame(gsknn.cv_results).sort_values(\"mean_test_rmse\")"
      ]
    },
    {
      "cell_type": "markdown",
      "metadata": {
        "id": "DjCv53t57A68"
      },
      "source": [
        "Faccio training di un modello utilizzando il k migliore individuato"
      ]
    },
    {
      "cell_type": "code",
      "execution_count": null,
      "metadata": {
        "colab": {
          "base_uri": "https://localhost:8080/"
        },
        "id": "_hJj77NlDvqk",
        "outputId": "3d941afd-a1a3-4266-8522-7ba8f436b9d7"
      },
      "outputs": [
        {
          "name": "stdout",
          "output_type": "stream",
          "text": [
            "Computing the cosine similarity matrix...\n",
            "Done computing similarity matrix.\n"
          ]
        },
        {
          "data": {
            "text/plain": [
              "<surprise.prediction_algorithms.knns.KNNBasic at 0x7f08c6b73a90>"
            ]
          },
          "execution_count": 73,
          "metadata": {},
          "output_type": "execute_result"
        }
      ],
      "source": [
        "knnmodel= KNNBasic(k=40,sim_options={\"name\": \"cosine\"})\n",
        "knnmodel.fit(datatrain)"
      ]
    },
    {
      "cell_type": "markdown",
      "metadata": {
        "id": "g5nVxaZY7FrE"
      },
      "source": [
        "e lo testo sul test set"
      ]
    },
    {
      "cell_type": "code",
      "execution_count": null,
      "metadata": {
        "id": "feoWSyQ8D_N5"
      },
      "outputs": [],
      "source": [
        "predknn=knnmodel.test(datatest)"
      ]
    },
    {
      "cell_type": "code",
      "execution_count": null,
      "metadata": {
        "id": "fWqRAso-TD8L"
      },
      "outputs": [],
      "source": [
        "rmse(predknn)"
      ]
    },
    {
      "cell_type": "code",
      "execution_count": null,
      "metadata": {
        "colab": {
          "base_uri": "https://localhost:8080/"
        },
        "id": "vP8gROPmUpdc",
        "outputId": "135d4c89-fee5-42eb-af9e-fee0e95eee9c"
      },
      "outputs": [
        {
          "name": "stdout",
          "output_type": "stream",
          "text": [
            "MAE:  1.0304\n"
          ]
        },
        {
          "data": {
            "text/plain": [
              "1.030440694308897"
            ]
          },
          "execution_count": 76,
          "metadata": {},
          "output_type": "execute_result"
        }
      ],
      "source": [
        "mae(predknn)"
      ]
    },
    {
      "cell_type": "code",
      "execution_count": null,
      "metadata": {
        "colab": {
          "base_uri": "https://localhost:8080/"
        },
        "id": "2vusJosnUrbD",
        "outputId": "662205be-9596-4807-ef41-c123bedcc5bb"
      },
      "outputs": [
        {
          "name": "stdout",
          "output_type": "stream",
          "text": [
            "RMSE: 1.3440\n",
            "MAE:  1.0304\n"
          ]
        }
      ],
      "source": [
        "ResKNN=(rmse(predknn),mae(predknn))"
      ]
    },
    {
      "cell_type": "markdown",
      "metadata": {
        "id": "_vP-F_nuUzZv"
      },
      "source": [
        "## SVD e SVDPP"
      ]
    },
    {
      "cell_type": "markdown",
      "metadata": {
        "id": "leflYOOy8Hnv"
      },
      "source": [
        "SVD è un algoritmo basato sulla fattorizzazione di matrici in cui si scompone la matrice di partenza M in un prodotto di 3 matrici. La prima contiene gli autovettori destri di M.MT ovvero la matrice di similarità tra utenti. La seconda è una matrice diagonale contenente gli autovalori di M in ordine decrescente. La terza è composta dagli autovettori di MT.M ovvero la matrice similarità degli oggetti. L'iperparametro da individuare tramite grid search è il numero di fattori ovvero il numero di valori singolari della seconda matrice da considerare per approssimare M."
      ]
    },
    {
      "cell_type": "code",
      "execution_count": null,
      "metadata": {
        "id": "7WtJOlIPU1W2"
      },
      "outputs": [],
      "source": [
        "gridsvd = {\"n_factors\": [ 3, 9, 15, 21, 27, 30]\n",
        "        }"
      ]
    },
    {
      "cell_type": "code",
      "execution_count": null,
      "metadata": {
        "id": "rfWwidqPZtDB"
      },
      "outputs": [],
      "source": [
        "gssvd=GridSearchCV(SVD,gridsvd,cv=kf,refit=True)\n",
        "gssvd.fit(dataset_train)"
      ]
    },
    {
      "cell_type": "code",
      "execution_count": null,
      "metadata": {
        "colab": {
          "base_uri": "https://localhost:8080/",
          "height": 406
        },
        "id": "A4aEl7BMcbVw",
        "outputId": "f281f804-ea03-4d9c-9bcc-c14b3d1c38ea"
      },
      "outputs": [
        {
          "output_type": "execute_result",
          "data": {
            "text/plain": [
              "   split0_test_rmse  split1_test_rmse  split2_test_rmse  mean_test_rmse  \\\n",
              "1          1.108794          1.108271          1.115213        1.110759   \n",
              "2          1.108137          1.111272          1.115846        1.111752   \n",
              "0          1.112234          1.113198          1.115994        1.113809   \n",
              "3          1.112182          1.114117          1.115834        1.114044   \n",
              "5          1.112990          1.114086          1.116358        1.114478   \n",
              "4          1.114621          1.114156          1.118255        1.115677   \n",
              "\n",
              "   std_test_rmse  rank_test_rmse  split0_test_mae  split1_test_mae  \\\n",
              "1       0.003156               1         0.839652         0.838833   \n",
              "2       0.003165               2         0.838248         0.840675   \n",
              "0       0.001594               3         0.843524         0.843926   \n",
              "3       0.001492               4         0.841294         0.841968   \n",
              "5       0.001402               5         0.841784         0.842189   \n",
              "4       0.001833               6         0.842458         0.842488   \n",
              "\n",
              "   split2_test_mae  mean_test_mae  std_test_mae  rank_test_mae  mean_fit_time  \\\n",
              "1         0.843528       0.840671      0.002048              1      14.837364   \n",
              "2         0.843632       0.840852      0.002202              2      12.986746   \n",
              "0         0.845201       0.844217      0.000715              6      10.173024   \n",
              "3         0.843315       0.842192      0.000840              3      14.675787   \n",
              "5         0.843828       0.842600      0.000883              4      16.704120   \n",
              "4         0.844996       0.843314      0.001189              5      15.394034   \n",
              "\n",
              "   std_fit_time  mean_test_time  std_test_time             params  \\\n",
              "1      2.330387        3.517439       0.342894   {'n_factors': 9}   \n",
              "2      0.302020        2.914497       0.029383  {'n_factors': 15}   \n",
              "0      0.144400        4.703548       2.714031   {'n_factors': 3}   \n",
              "3      1.166122        3.554410       0.357496  {'n_factors': 21}   \n",
              "5      0.799889        2.959003       0.281641  {'n_factors': 30}   \n",
              "4      0.647836        3.213688       0.441134  {'n_factors': 27}   \n",
              "\n",
              "   param_n_factors  \n",
              "1                9  \n",
              "2               15  \n",
              "0                3  \n",
              "3               21  \n",
              "5               30  \n",
              "4               27  "
            ],
            "text/html": [
              "\n",
              "  <div id=\"df-de268558-3a60-4ec7-8d9c-e7b7e31872da\">\n",
              "    <div class=\"colab-df-container\">\n",
              "      <div>\n",
              "<style scoped>\n",
              "    .dataframe tbody tr th:only-of-type {\n",
              "        vertical-align: middle;\n",
              "    }\n",
              "\n",
              "    .dataframe tbody tr th {\n",
              "        vertical-align: top;\n",
              "    }\n",
              "\n",
              "    .dataframe thead th {\n",
              "        text-align: right;\n",
              "    }\n",
              "</style>\n",
              "<table border=\"1\" class=\"dataframe\">\n",
              "  <thead>\n",
              "    <tr style=\"text-align: right;\">\n",
              "      <th></th>\n",
              "      <th>split0_test_rmse</th>\n",
              "      <th>split1_test_rmse</th>\n",
              "      <th>split2_test_rmse</th>\n",
              "      <th>mean_test_rmse</th>\n",
              "      <th>std_test_rmse</th>\n",
              "      <th>rank_test_rmse</th>\n",
              "      <th>split0_test_mae</th>\n",
              "      <th>split1_test_mae</th>\n",
              "      <th>split2_test_mae</th>\n",
              "      <th>mean_test_mae</th>\n",
              "      <th>std_test_mae</th>\n",
              "      <th>rank_test_mae</th>\n",
              "      <th>mean_fit_time</th>\n",
              "      <th>std_fit_time</th>\n",
              "      <th>mean_test_time</th>\n",
              "      <th>std_test_time</th>\n",
              "      <th>params</th>\n",
              "      <th>param_n_factors</th>\n",
              "    </tr>\n",
              "  </thead>\n",
              "  <tbody>\n",
              "    <tr>\n",
              "      <th>1</th>\n",
              "      <td>1.108794</td>\n",
              "      <td>1.108271</td>\n",
              "      <td>1.115213</td>\n",
              "      <td>1.110759</td>\n",
              "      <td>0.003156</td>\n",
              "      <td>1</td>\n",
              "      <td>0.839652</td>\n",
              "      <td>0.838833</td>\n",
              "      <td>0.843528</td>\n",
              "      <td>0.840671</td>\n",
              "      <td>0.002048</td>\n",
              "      <td>1</td>\n",
              "      <td>14.837364</td>\n",
              "      <td>2.330387</td>\n",
              "      <td>3.517439</td>\n",
              "      <td>0.342894</td>\n",
              "      <td>{'n_factors': 9}</td>\n",
              "      <td>9</td>\n",
              "    </tr>\n",
              "    <tr>\n",
              "      <th>2</th>\n",
              "      <td>1.108137</td>\n",
              "      <td>1.111272</td>\n",
              "      <td>1.115846</td>\n",
              "      <td>1.111752</td>\n",
              "      <td>0.003165</td>\n",
              "      <td>2</td>\n",
              "      <td>0.838248</td>\n",
              "      <td>0.840675</td>\n",
              "      <td>0.843632</td>\n",
              "      <td>0.840852</td>\n",
              "      <td>0.002202</td>\n",
              "      <td>2</td>\n",
              "      <td>12.986746</td>\n",
              "      <td>0.302020</td>\n",
              "      <td>2.914497</td>\n",
              "      <td>0.029383</td>\n",
              "      <td>{'n_factors': 15}</td>\n",
              "      <td>15</td>\n",
              "    </tr>\n",
              "    <tr>\n",
              "      <th>0</th>\n",
              "      <td>1.112234</td>\n",
              "      <td>1.113198</td>\n",
              "      <td>1.115994</td>\n",
              "      <td>1.113809</td>\n",
              "      <td>0.001594</td>\n",
              "      <td>3</td>\n",
              "      <td>0.843524</td>\n",
              "      <td>0.843926</td>\n",
              "      <td>0.845201</td>\n",
              "      <td>0.844217</td>\n",
              "      <td>0.000715</td>\n",
              "      <td>6</td>\n",
              "      <td>10.173024</td>\n",
              "      <td>0.144400</td>\n",
              "      <td>4.703548</td>\n",
              "      <td>2.714031</td>\n",
              "      <td>{'n_factors': 3}</td>\n",
              "      <td>3</td>\n",
              "    </tr>\n",
              "    <tr>\n",
              "      <th>3</th>\n",
              "      <td>1.112182</td>\n",
              "      <td>1.114117</td>\n",
              "      <td>1.115834</td>\n",
              "      <td>1.114044</td>\n",
              "      <td>0.001492</td>\n",
              "      <td>4</td>\n",
              "      <td>0.841294</td>\n",
              "      <td>0.841968</td>\n",
              "      <td>0.843315</td>\n",
              "      <td>0.842192</td>\n",
              "      <td>0.000840</td>\n",
              "      <td>3</td>\n",
              "      <td>14.675787</td>\n",
              "      <td>1.166122</td>\n",
              "      <td>3.554410</td>\n",
              "      <td>0.357496</td>\n",
              "      <td>{'n_factors': 21}</td>\n",
              "      <td>21</td>\n",
              "    </tr>\n",
              "    <tr>\n",
              "      <th>5</th>\n",
              "      <td>1.112990</td>\n",
              "      <td>1.114086</td>\n",
              "      <td>1.116358</td>\n",
              "      <td>1.114478</td>\n",
              "      <td>0.001402</td>\n",
              "      <td>5</td>\n",
              "      <td>0.841784</td>\n",
              "      <td>0.842189</td>\n",
              "      <td>0.843828</td>\n",
              "      <td>0.842600</td>\n",
              "      <td>0.000883</td>\n",
              "      <td>4</td>\n",
              "      <td>16.704120</td>\n",
              "      <td>0.799889</td>\n",
              "      <td>2.959003</td>\n",
              "      <td>0.281641</td>\n",
              "      <td>{'n_factors': 30}</td>\n",
              "      <td>30</td>\n",
              "    </tr>\n",
              "    <tr>\n",
              "      <th>4</th>\n",
              "      <td>1.114621</td>\n",
              "      <td>1.114156</td>\n",
              "      <td>1.118255</td>\n",
              "      <td>1.115677</td>\n",
              "      <td>0.001833</td>\n",
              "      <td>6</td>\n",
              "      <td>0.842458</td>\n",
              "      <td>0.842488</td>\n",
              "      <td>0.844996</td>\n",
              "      <td>0.843314</td>\n",
              "      <td>0.001189</td>\n",
              "      <td>5</td>\n",
              "      <td>15.394034</td>\n",
              "      <td>0.647836</td>\n",
              "      <td>3.213688</td>\n",
              "      <td>0.441134</td>\n",
              "      <td>{'n_factors': 27}</td>\n",
              "      <td>27</td>\n",
              "    </tr>\n",
              "  </tbody>\n",
              "</table>\n",
              "</div>\n",
              "      <button class=\"colab-df-convert\" onclick=\"convertToInteractive('df-de268558-3a60-4ec7-8d9c-e7b7e31872da')\"\n",
              "              title=\"Convert this dataframe to an interactive table.\"\n",
              "              style=\"display:none;\">\n",
              "        \n",
              "  <svg xmlns=\"http://www.w3.org/2000/svg\" height=\"24px\"viewBox=\"0 0 24 24\"\n",
              "       width=\"24px\">\n",
              "    <path d=\"M0 0h24v24H0V0z\" fill=\"none\"/>\n",
              "    <path d=\"M18.56 5.44l.94 2.06.94-2.06 2.06-.94-2.06-.94-.94-2.06-.94 2.06-2.06.94zm-11 1L8.5 8.5l.94-2.06 2.06-.94-2.06-.94L8.5 2.5l-.94 2.06-2.06.94zm10 10l.94 2.06.94-2.06 2.06-.94-2.06-.94-.94-2.06-.94 2.06-2.06.94z\"/><path d=\"M17.41 7.96l-1.37-1.37c-.4-.4-.92-.59-1.43-.59-.52 0-1.04.2-1.43.59L10.3 9.45l-7.72 7.72c-.78.78-.78 2.05 0 2.83L4 21.41c.39.39.9.59 1.41.59.51 0 1.02-.2 1.41-.59l7.78-7.78 2.81-2.81c.8-.78.8-2.07 0-2.86zM5.41 20L4 18.59l7.72-7.72 1.47 1.35L5.41 20z\"/>\n",
              "  </svg>\n",
              "      </button>\n",
              "      \n",
              "  <style>\n",
              "    .colab-df-container {\n",
              "      display:flex;\n",
              "      flex-wrap:wrap;\n",
              "      gap: 12px;\n",
              "    }\n",
              "\n",
              "    .colab-df-convert {\n",
              "      background-color: #E8F0FE;\n",
              "      border: none;\n",
              "      border-radius: 50%;\n",
              "      cursor: pointer;\n",
              "      display: none;\n",
              "      fill: #1967D2;\n",
              "      height: 32px;\n",
              "      padding: 0 0 0 0;\n",
              "      width: 32px;\n",
              "    }\n",
              "\n",
              "    .colab-df-convert:hover {\n",
              "      background-color: #E2EBFA;\n",
              "      box-shadow: 0px 1px 2px rgba(60, 64, 67, 0.3), 0px 1px 3px 1px rgba(60, 64, 67, 0.15);\n",
              "      fill: #174EA6;\n",
              "    }\n",
              "\n",
              "    [theme=dark] .colab-df-convert {\n",
              "      background-color: #3B4455;\n",
              "      fill: #D2E3FC;\n",
              "    }\n",
              "\n",
              "    [theme=dark] .colab-df-convert:hover {\n",
              "      background-color: #434B5C;\n",
              "      box-shadow: 0px 1px 3px 1px rgba(0, 0, 0, 0.15);\n",
              "      filter: drop-shadow(0px 1px 2px rgba(0, 0, 0, 0.3));\n",
              "      fill: #FFFFFF;\n",
              "    }\n",
              "  </style>\n",
              "\n",
              "      <script>\n",
              "        const buttonEl =\n",
              "          document.querySelector('#df-de268558-3a60-4ec7-8d9c-e7b7e31872da button.colab-df-convert');\n",
              "        buttonEl.style.display =\n",
              "          google.colab.kernel.accessAllowed ? 'block' : 'none';\n",
              "\n",
              "        async function convertToInteractive(key) {\n",
              "          const element = document.querySelector('#df-de268558-3a60-4ec7-8d9c-e7b7e31872da');\n",
              "          const dataTable =\n",
              "            await google.colab.kernel.invokeFunction('convertToInteractive',\n",
              "                                                     [key], {});\n",
              "          if (!dataTable) return;\n",
              "\n",
              "          const docLinkHtml = 'Like what you see? Visit the ' +\n",
              "            '<a target=\"_blank\" href=https://colab.research.google.com/notebooks/data_table.ipynb>data table notebook</a>'\n",
              "            + ' to learn more about interactive tables.';\n",
              "          element.innerHTML = '';\n",
              "          dataTable['output_type'] = 'display_data';\n",
              "          await google.colab.output.renderOutput(dataTable, element);\n",
              "          const docLink = document.createElement('div');\n",
              "          docLink.innerHTML = docLinkHtml;\n",
              "          element.appendChild(docLink);\n",
              "        }\n",
              "      </script>\n",
              "    </div>\n",
              "  </div>\n",
              "  "
            ]
          },
          "metadata": {},
          "execution_count": 26
        }
      ],
      "source": [
        "pd.DataFrame(gssvd.cv_results).sort_values(\"mean_test_rmse\")"
      ]
    },
    {
      "cell_type": "code",
      "execution_count": null,
      "metadata": {
        "colab": {
          "base_uri": "https://localhost:8080/"
        },
        "id": "YD9H_1G8xD-_",
        "outputId": "1fce7785-fe06-4be0-ccf4-ca266aebc535"
      },
      "outputs": [
        {
          "output_type": "stream",
          "name": "stdout",
          "text": [
            "RMSE: 1.0856\n",
            "MAE:  0.8200\n"
          ]
        },
        {
          "output_type": "execute_result",
          "data": {
            "text/plain": [
              "(1.085616838095167, 0.8199763849176982)"
            ]
          },
          "metadata": {},
          "execution_count": 27
        }
      ],
      "source": [
        "predsvd=gssvd.test(datatest)\n",
        "rmse(predsvd),mae(predsvd)"
      ]
    },
    {
      "cell_type": "code",
      "execution_count": null,
      "metadata": {
        "colab": {
          "base_uri": "https://localhost:8080/"
        },
        "id": "q8KcH2vp-0Xz",
        "outputId": "ba67c3ed-63f0-4f7a-d8f3-b198b383aada"
      },
      "outputs": [
        {
          "output_type": "stream",
          "name": "stdout",
          "text": [
            "RMSE: 1.0856\n",
            "MAE:  0.8200\n"
          ]
        }
      ],
      "source": [
        "resSVD=(rmse(predsvd),mae(predsvd))"
      ]
    },
    {
      "cell_type": "markdown",
      "metadata": {
        "id": "LuVMxWcY-_PD"
      },
      "source": [
        "SVDpp è una versione modificata di SVD basata sullo stesso tipo di fattorizzazione. La differenza con SVD base consiste nell'introduzione di fattori che tengono tengono conto dell'interazione tra utente e oggetto a prescindere dal voto."
      ]
    },
    {
      "cell_type": "code",
      "execution_count": null,
      "metadata": {
        "id": "Y1YPlU-8NXi1"
      },
      "outputs": [],
      "source": [
        "gridsvdpp = {\"n_factors\": [ 3, 9, 15, 21]\n",
        "        }"
      ]
    },
    {
      "cell_type": "code",
      "execution_count": null,
      "metadata": {
        "id": "ujdf6wK_87eg"
      },
      "outputs": [],
      "source": [
        "gssvdpp=GridSearchCV(SVDpp,gridsvdpp,cv=kf,refit=True)\n",
        "gssvdpp.fit(dataset_train)"
      ]
    },
    {
      "cell_type": "code",
      "execution_count": null,
      "metadata": {
        "id": "jY9QGTavSr2_",
        "colab": {
          "base_uri": "https://localhost:8080/",
          "height": 308
        },
        "outputId": "606893fa-86b7-4f2f-e3ad-aba284d72009"
      },
      "outputs": [
        {
          "output_type": "execute_result",
          "data": {
            "text/plain": [
              "   split0_test_rmse  split1_test_rmse  split2_test_rmse  mean_test_rmse  \\\n",
              "0          1.098619          1.104448          1.105773        1.102947   \n",
              "1          1.101601          1.104065          1.109290        1.104985   \n",
              "2          1.113564          1.112089          1.114924        1.113525   \n",
              "3          1.114184          1.116408          1.119372        1.116655   \n",
              "\n",
              "   std_test_rmse  rank_test_rmse  split0_test_mae  split1_test_mae  \\\n",
              "0       0.003108               1         0.831690         0.836540   \n",
              "1       0.003206               2         0.832028         0.833939   \n",
              "2       0.001158               3         0.839773         0.839025   \n",
              "3       0.002125               4         0.839936         0.841801   \n",
              "\n",
              "   split2_test_mae  mean_test_mae  std_test_mae  rank_test_mae  mean_fit_time  \\\n",
              "0         0.836433       0.834888      0.002261              2     375.766133   \n",
              "1         0.837425       0.834464      0.002234              1     510.927961   \n",
              "2         0.841589       0.840129      0.001077              3     648.850003   \n",
              "3         0.844486       0.842074      0.001867              4     757.548187   \n",
              "\n",
              "   std_fit_time  mean_test_time  std_test_time             params  \\\n",
              "0      2.381357       44.455136       2.019081   {'n_factors': 3}   \n",
              "1      8.567086       46.077737       2.882100   {'n_factors': 9}   \n",
              "2      2.896883       43.673115       0.973285  {'n_factors': 15}   \n",
              "3      8.573120       42.974130       0.853573  {'n_factors': 21}   \n",
              "\n",
              "   param_n_factors  \n",
              "0                3  \n",
              "1                9  \n",
              "2               15  \n",
              "3               21  "
            ],
            "text/html": [
              "\n",
              "  <div id=\"df-a46b49bc-6d55-44b1-bfe3-2b1a8236d27a\">\n",
              "    <div class=\"colab-df-container\">\n",
              "      <div>\n",
              "<style scoped>\n",
              "    .dataframe tbody tr th:only-of-type {\n",
              "        vertical-align: middle;\n",
              "    }\n",
              "\n",
              "    .dataframe tbody tr th {\n",
              "        vertical-align: top;\n",
              "    }\n",
              "\n",
              "    .dataframe thead th {\n",
              "        text-align: right;\n",
              "    }\n",
              "</style>\n",
              "<table border=\"1\" class=\"dataframe\">\n",
              "  <thead>\n",
              "    <tr style=\"text-align: right;\">\n",
              "      <th></th>\n",
              "      <th>split0_test_rmse</th>\n",
              "      <th>split1_test_rmse</th>\n",
              "      <th>split2_test_rmse</th>\n",
              "      <th>mean_test_rmse</th>\n",
              "      <th>std_test_rmse</th>\n",
              "      <th>rank_test_rmse</th>\n",
              "      <th>split0_test_mae</th>\n",
              "      <th>split1_test_mae</th>\n",
              "      <th>split2_test_mae</th>\n",
              "      <th>mean_test_mae</th>\n",
              "      <th>std_test_mae</th>\n",
              "      <th>rank_test_mae</th>\n",
              "      <th>mean_fit_time</th>\n",
              "      <th>std_fit_time</th>\n",
              "      <th>mean_test_time</th>\n",
              "      <th>std_test_time</th>\n",
              "      <th>params</th>\n",
              "      <th>param_n_factors</th>\n",
              "    </tr>\n",
              "  </thead>\n",
              "  <tbody>\n",
              "    <tr>\n",
              "      <th>0</th>\n",
              "      <td>1.098619</td>\n",
              "      <td>1.104448</td>\n",
              "      <td>1.105773</td>\n",
              "      <td>1.102947</td>\n",
              "      <td>0.003108</td>\n",
              "      <td>1</td>\n",
              "      <td>0.831690</td>\n",
              "      <td>0.836540</td>\n",
              "      <td>0.836433</td>\n",
              "      <td>0.834888</td>\n",
              "      <td>0.002261</td>\n",
              "      <td>2</td>\n",
              "      <td>375.766133</td>\n",
              "      <td>2.381357</td>\n",
              "      <td>44.455136</td>\n",
              "      <td>2.019081</td>\n",
              "      <td>{'n_factors': 3}</td>\n",
              "      <td>3</td>\n",
              "    </tr>\n",
              "    <tr>\n",
              "      <th>1</th>\n",
              "      <td>1.101601</td>\n",
              "      <td>1.104065</td>\n",
              "      <td>1.109290</td>\n",
              "      <td>1.104985</td>\n",
              "      <td>0.003206</td>\n",
              "      <td>2</td>\n",
              "      <td>0.832028</td>\n",
              "      <td>0.833939</td>\n",
              "      <td>0.837425</td>\n",
              "      <td>0.834464</td>\n",
              "      <td>0.002234</td>\n",
              "      <td>1</td>\n",
              "      <td>510.927961</td>\n",
              "      <td>8.567086</td>\n",
              "      <td>46.077737</td>\n",
              "      <td>2.882100</td>\n",
              "      <td>{'n_factors': 9}</td>\n",
              "      <td>9</td>\n",
              "    </tr>\n",
              "    <tr>\n",
              "      <th>2</th>\n",
              "      <td>1.113564</td>\n",
              "      <td>1.112089</td>\n",
              "      <td>1.114924</td>\n",
              "      <td>1.113525</td>\n",
              "      <td>0.001158</td>\n",
              "      <td>3</td>\n",
              "      <td>0.839773</td>\n",
              "      <td>0.839025</td>\n",
              "      <td>0.841589</td>\n",
              "      <td>0.840129</td>\n",
              "      <td>0.001077</td>\n",
              "      <td>3</td>\n",
              "      <td>648.850003</td>\n",
              "      <td>2.896883</td>\n",
              "      <td>43.673115</td>\n",
              "      <td>0.973285</td>\n",
              "      <td>{'n_factors': 15}</td>\n",
              "      <td>15</td>\n",
              "    </tr>\n",
              "    <tr>\n",
              "      <th>3</th>\n",
              "      <td>1.114184</td>\n",
              "      <td>1.116408</td>\n",
              "      <td>1.119372</td>\n",
              "      <td>1.116655</td>\n",
              "      <td>0.002125</td>\n",
              "      <td>4</td>\n",
              "      <td>0.839936</td>\n",
              "      <td>0.841801</td>\n",
              "      <td>0.844486</td>\n",
              "      <td>0.842074</td>\n",
              "      <td>0.001867</td>\n",
              "      <td>4</td>\n",
              "      <td>757.548187</td>\n",
              "      <td>8.573120</td>\n",
              "      <td>42.974130</td>\n",
              "      <td>0.853573</td>\n",
              "      <td>{'n_factors': 21}</td>\n",
              "      <td>21</td>\n",
              "    </tr>\n",
              "  </tbody>\n",
              "</table>\n",
              "</div>\n",
              "      <button class=\"colab-df-convert\" onclick=\"convertToInteractive('df-a46b49bc-6d55-44b1-bfe3-2b1a8236d27a')\"\n",
              "              title=\"Convert this dataframe to an interactive table.\"\n",
              "              style=\"display:none;\">\n",
              "        \n",
              "  <svg xmlns=\"http://www.w3.org/2000/svg\" height=\"24px\"viewBox=\"0 0 24 24\"\n",
              "       width=\"24px\">\n",
              "    <path d=\"M0 0h24v24H0V0z\" fill=\"none\"/>\n",
              "    <path d=\"M18.56 5.44l.94 2.06.94-2.06 2.06-.94-2.06-.94-.94-2.06-.94 2.06-2.06.94zm-11 1L8.5 8.5l.94-2.06 2.06-.94-2.06-.94L8.5 2.5l-.94 2.06-2.06.94zm10 10l.94 2.06.94-2.06 2.06-.94-2.06-.94-.94-2.06-.94 2.06-2.06.94z\"/><path d=\"M17.41 7.96l-1.37-1.37c-.4-.4-.92-.59-1.43-.59-.52 0-1.04.2-1.43.59L10.3 9.45l-7.72 7.72c-.78.78-.78 2.05 0 2.83L4 21.41c.39.39.9.59 1.41.59.51 0 1.02-.2 1.41-.59l7.78-7.78 2.81-2.81c.8-.78.8-2.07 0-2.86zM5.41 20L4 18.59l7.72-7.72 1.47 1.35L5.41 20z\"/>\n",
              "  </svg>\n",
              "      </button>\n",
              "      \n",
              "  <style>\n",
              "    .colab-df-container {\n",
              "      display:flex;\n",
              "      flex-wrap:wrap;\n",
              "      gap: 12px;\n",
              "    }\n",
              "\n",
              "    .colab-df-convert {\n",
              "      background-color: #E8F0FE;\n",
              "      border: none;\n",
              "      border-radius: 50%;\n",
              "      cursor: pointer;\n",
              "      display: none;\n",
              "      fill: #1967D2;\n",
              "      height: 32px;\n",
              "      padding: 0 0 0 0;\n",
              "      width: 32px;\n",
              "    }\n",
              "\n",
              "    .colab-df-convert:hover {\n",
              "      background-color: #E2EBFA;\n",
              "      box-shadow: 0px 1px 2px rgba(60, 64, 67, 0.3), 0px 1px 3px 1px rgba(60, 64, 67, 0.15);\n",
              "      fill: #174EA6;\n",
              "    }\n",
              "\n",
              "    [theme=dark] .colab-df-convert {\n",
              "      background-color: #3B4455;\n",
              "      fill: #D2E3FC;\n",
              "    }\n",
              "\n",
              "    [theme=dark] .colab-df-convert:hover {\n",
              "      background-color: #434B5C;\n",
              "      box-shadow: 0px 1px 3px 1px rgba(0, 0, 0, 0.15);\n",
              "      filter: drop-shadow(0px 1px 2px rgba(0, 0, 0, 0.3));\n",
              "      fill: #FFFFFF;\n",
              "    }\n",
              "  </style>\n",
              "\n",
              "      <script>\n",
              "        const buttonEl =\n",
              "          document.querySelector('#df-a46b49bc-6d55-44b1-bfe3-2b1a8236d27a button.colab-df-convert');\n",
              "        buttonEl.style.display =\n",
              "          google.colab.kernel.accessAllowed ? 'block' : 'none';\n",
              "\n",
              "        async function convertToInteractive(key) {\n",
              "          const element = document.querySelector('#df-a46b49bc-6d55-44b1-bfe3-2b1a8236d27a');\n",
              "          const dataTable =\n",
              "            await google.colab.kernel.invokeFunction('convertToInteractive',\n",
              "                                                     [key], {});\n",
              "          if (!dataTable) return;\n",
              "\n",
              "          const docLinkHtml = 'Like what you see? Visit the ' +\n",
              "            '<a target=\"_blank\" href=https://colab.research.google.com/notebooks/data_table.ipynb>data table notebook</a>'\n",
              "            + ' to learn more about interactive tables.';\n",
              "          element.innerHTML = '';\n",
              "          dataTable['output_type'] = 'display_data';\n",
              "          await google.colab.output.renderOutput(dataTable, element);\n",
              "          const docLink = document.createElement('div');\n",
              "          docLink.innerHTML = docLinkHtml;\n",
              "          element.appendChild(docLink);\n",
              "        }\n",
              "      </script>\n",
              "    </div>\n",
              "  </div>\n",
              "  "
            ]
          },
          "metadata": {},
          "execution_count": 20
        }
      ],
      "source": [
        "pd.DataFrame(gssvdpp.cv_results).sort_values(\"mean_test_rmse\")"
      ]
    },
    {
      "cell_type": "code",
      "execution_count": null,
      "metadata": {
        "id": "8Uys7zJooWWN",
        "colab": {
          "base_uri": "https://localhost:8080/"
        },
        "outputId": "16534f18-d300-4bfc-9603-3ba16547f414"
      },
      "outputs": [
        {
          "output_type": "stream",
          "name": "stdout",
          "text": [
            "RMSE: 1.0914\n",
            "MAE:  0.8264\n"
          ]
        },
        {
          "output_type": "execute_result",
          "data": {
            "text/plain": [
              "(1.0914128884952423, 0.8263979363884197)"
            ]
          },
          "metadata": {},
          "execution_count": 21
        }
      ],
      "source": [
        "predsvdpp=gssvdpp.test(datatest)\n",
        "rmse(predsvdpp),mae(predsvdpp)"
      ]
    },
    {
      "cell_type": "code",
      "execution_count": null,
      "metadata": {
        "id": "jJpT3BpLAHAo",
        "colab": {
          "base_uri": "https://localhost:8080/"
        },
        "outputId": "ea9e16de-3443-4de3-906a-f4be4831846d"
      },
      "outputs": [
        {
          "output_type": "stream",
          "name": "stdout",
          "text": [
            "RMSE: 1.0914\n",
            "MAE:  0.8264\n"
          ]
        }
      ],
      "source": [
        "resSVDpp=(rmse(predsvdpp),mae(predsvdpp))"
      ]
    },
    {
      "cell_type": "markdown",
      "metadata": {
        "id": "e3ZzE53HTm90"
      },
      "source": [
        "##NMF"
      ]
    },
    {
      "cell_type": "markdown",
      "metadata": {
        "id": "J8h8ytRTAbmN"
      },
      "source": [
        "L'algoritmo Non-negative Matrix Factorization è un altro algoritmo basato sulla fattorizzazione di matrici. E' simile a SVD con la differenza che i valori dei fattori sono necessariamente positivi."
      ]
    },
    {
      "cell_type": "code",
      "execution_count": null,
      "metadata": {
        "id": "69t_2MQHTopQ"
      },
      "outputs": [],
      "source": [
        "gsnmf=GridSearchCV(NMF,gridsvd,cv=kf,refit=True)\n",
        "gsnmf.fit(dataset_train)"
      ]
    },
    {
      "cell_type": "code",
      "execution_count": null,
      "metadata": {
        "colab": {
          "base_uri": "https://localhost:8080/",
          "height": 406
        },
        "id": "OjYXD5i_UIb1",
        "outputId": "fbe099e2-6676-445d-a518-7890c4df8ec4"
      },
      "outputs": [
        {
          "data": {
            "text/html": [
              "\n",
              "  <div id=\"df-e679dd0b-c6e1-4527-bf5f-5a50cbe162b0\">\n",
              "    <div class=\"colab-df-container\">\n",
              "      <div>\n",
              "<style scoped>\n",
              "    .dataframe tbody tr th:only-of-type {\n",
              "        vertical-align: middle;\n",
              "    }\n",
              "\n",
              "    .dataframe tbody tr th {\n",
              "        vertical-align: top;\n",
              "    }\n",
              "\n",
              "    .dataframe thead th {\n",
              "        text-align: right;\n",
              "    }\n",
              "</style>\n",
              "<table border=\"1\" class=\"dataframe\">\n",
              "  <thead>\n",
              "    <tr style=\"text-align: right;\">\n",
              "      <th></th>\n",
              "      <th>split0_test_rmse</th>\n",
              "      <th>split1_test_rmse</th>\n",
              "      <th>split2_test_rmse</th>\n",
              "      <th>mean_test_rmse</th>\n",
              "      <th>std_test_rmse</th>\n",
              "      <th>rank_test_rmse</th>\n",
              "      <th>split0_test_mae</th>\n",
              "      <th>split1_test_mae</th>\n",
              "      <th>split2_test_mae</th>\n",
              "      <th>mean_test_mae</th>\n",
              "      <th>std_test_mae</th>\n",
              "      <th>rank_test_mae</th>\n",
              "      <th>mean_fit_time</th>\n",
              "      <th>std_fit_time</th>\n",
              "      <th>mean_test_time</th>\n",
              "      <th>std_test_time</th>\n",
              "      <th>params</th>\n",
              "      <th>param_n_factors</th>\n",
              "    </tr>\n",
              "  </thead>\n",
              "  <tbody>\n",
              "    <tr>\n",
              "      <th>5</th>\n",
              "      <td>1.185312</td>\n",
              "      <td>1.186997</td>\n",
              "      <td>1.187408</td>\n",
              "      <td>1.186573</td>\n",
              "      <td>0.000907</td>\n",
              "      <td>1</td>\n",
              "      <td>0.908817</td>\n",
              "      <td>0.908220</td>\n",
              "      <td>0.907170</td>\n",
              "      <td>0.908069</td>\n",
              "      <td>0.000681</td>\n",
              "      <td>1</td>\n",
              "      <td>39.046918</td>\n",
              "      <td>0.333846</td>\n",
              "      <td>2.438295</td>\n",
              "      <td>0.534686</td>\n",
              "      <td>{'n_factors': 30}</td>\n",
              "      <td>30</td>\n",
              "    </tr>\n",
              "    <tr>\n",
              "      <th>4</th>\n",
              "      <td>1.243799</td>\n",
              "      <td>1.250904</td>\n",
              "      <td>1.249015</td>\n",
              "      <td>1.247906</td>\n",
              "      <td>0.003005</td>\n",
              "      <td>2</td>\n",
              "      <td>0.976387</td>\n",
              "      <td>0.982523</td>\n",
              "      <td>0.978033</td>\n",
              "      <td>0.978981</td>\n",
              "      <td>0.002593</td>\n",
              "      <td>2</td>\n",
              "      <td>36.962230</td>\n",
              "      <td>0.416281</td>\n",
              "      <td>2.412090</td>\n",
              "      <td>0.520049</td>\n",
              "      <td>{'n_factors': 27}</td>\n",
              "      <td>27</td>\n",
              "    </tr>\n",
              "    <tr>\n",
              "      <th>3</th>\n",
              "      <td>1.596921</td>\n",
              "      <td>1.604625</td>\n",
              "      <td>1.618126</td>\n",
              "      <td>1.606557</td>\n",
              "      <td>0.008764</td>\n",
              "      <td>3</td>\n",
              "      <td>1.337506</td>\n",
              "      <td>1.345027</td>\n",
              "      <td>1.359394</td>\n",
              "      <td>1.347309</td>\n",
              "      <td>0.009080</td>\n",
              "      <td>3</td>\n",
              "      <td>33.505569</td>\n",
              "      <td>0.436835</td>\n",
              "      <td>2.775645</td>\n",
              "      <td>0.028484</td>\n",
              "      <td>{'n_factors': 21}</td>\n",
              "      <td>21</td>\n",
              "    </tr>\n",
              "    <tr>\n",
              "      <th>2</th>\n",
              "      <td>2.193770</td>\n",
              "      <td>2.212942</td>\n",
              "      <td>2.197048</td>\n",
              "      <td>2.201253</td>\n",
              "      <td>0.008373</td>\n",
              "      <td>4</td>\n",
              "      <td>1.955235</td>\n",
              "      <td>1.973437</td>\n",
              "      <td>1.958024</td>\n",
              "      <td>1.962232</td>\n",
              "      <td>0.008005</td>\n",
              "      <td>4</td>\n",
              "      <td>29.838364</td>\n",
              "      <td>0.587801</td>\n",
              "      <td>2.416062</td>\n",
              "      <td>0.581259</td>\n",
              "      <td>{'n_factors': 15}</td>\n",
              "      <td>15</td>\n",
              "    </tr>\n",
              "    <tr>\n",
              "      <th>1</th>\n",
              "      <td>3.054105</td>\n",
              "      <td>3.052857</td>\n",
              "      <td>3.068258</td>\n",
              "      <td>3.058406</td>\n",
              "      <td>0.006984</td>\n",
              "      <td>5</td>\n",
              "      <td>2.847218</td>\n",
              "      <td>2.844494</td>\n",
              "      <td>2.860685</td>\n",
              "      <td>2.850799</td>\n",
              "      <td>0.007078</td>\n",
              "      <td>5</td>\n",
              "      <td>25.227027</td>\n",
              "      <td>0.375276</td>\n",
              "      <td>2.392530</td>\n",
              "      <td>0.546727</td>\n",
              "      <td>{'n_factors': 9}</td>\n",
              "      <td>9</td>\n",
              "    </tr>\n",
              "    <tr>\n",
              "      <th>0</th>\n",
              "      <td>4.198434</td>\n",
              "      <td>4.202096</td>\n",
              "      <td>4.188266</td>\n",
              "      <td>4.196265</td>\n",
              "      <td>0.005850</td>\n",
              "      <td>6</td>\n",
              "      <td>4.022391</td>\n",
              "      <td>4.025009</td>\n",
              "      <td>4.010903</td>\n",
              "      <td>4.019434</td>\n",
              "      <td>0.006127</td>\n",
              "      <td>6</td>\n",
              "      <td>22.335586</td>\n",
              "      <td>0.557535</td>\n",
              "      <td>3.827063</td>\n",
              "      <td>1.423851</td>\n",
              "      <td>{'n_factors': 3}</td>\n",
              "      <td>3</td>\n",
              "    </tr>\n",
              "  </tbody>\n",
              "</table>\n",
              "</div>\n",
              "      <button class=\"colab-df-convert\" onclick=\"convertToInteractive('df-e679dd0b-c6e1-4527-bf5f-5a50cbe162b0')\"\n",
              "              title=\"Convert this dataframe to an interactive table.\"\n",
              "              style=\"display:none;\">\n",
              "        \n",
              "  <svg xmlns=\"http://www.w3.org/2000/svg\" height=\"24px\"viewBox=\"0 0 24 24\"\n",
              "       width=\"24px\">\n",
              "    <path d=\"M0 0h24v24H0V0z\" fill=\"none\"/>\n",
              "    <path d=\"M18.56 5.44l.94 2.06.94-2.06 2.06-.94-2.06-.94-.94-2.06-.94 2.06-2.06.94zm-11 1L8.5 8.5l.94-2.06 2.06-.94-2.06-.94L8.5 2.5l-.94 2.06-2.06.94zm10 10l.94 2.06.94-2.06 2.06-.94-2.06-.94-.94-2.06-.94 2.06-2.06.94z\"/><path d=\"M17.41 7.96l-1.37-1.37c-.4-.4-.92-.59-1.43-.59-.52 0-1.04.2-1.43.59L10.3 9.45l-7.72 7.72c-.78.78-.78 2.05 0 2.83L4 21.41c.39.39.9.59 1.41.59.51 0 1.02-.2 1.41-.59l7.78-7.78 2.81-2.81c.8-.78.8-2.07 0-2.86zM5.41 20L4 18.59l7.72-7.72 1.47 1.35L5.41 20z\"/>\n",
              "  </svg>\n",
              "      </button>\n",
              "      \n",
              "  <style>\n",
              "    .colab-df-container {\n",
              "      display:flex;\n",
              "      flex-wrap:wrap;\n",
              "      gap: 12px;\n",
              "    }\n",
              "\n",
              "    .colab-df-convert {\n",
              "      background-color: #E8F0FE;\n",
              "      border: none;\n",
              "      border-radius: 50%;\n",
              "      cursor: pointer;\n",
              "      display: none;\n",
              "      fill: #1967D2;\n",
              "      height: 32px;\n",
              "      padding: 0 0 0 0;\n",
              "      width: 32px;\n",
              "    }\n",
              "\n",
              "    .colab-df-convert:hover {\n",
              "      background-color: #E2EBFA;\n",
              "      box-shadow: 0px 1px 2px rgba(60, 64, 67, 0.3), 0px 1px 3px 1px rgba(60, 64, 67, 0.15);\n",
              "      fill: #174EA6;\n",
              "    }\n",
              "\n",
              "    [theme=dark] .colab-df-convert {\n",
              "      background-color: #3B4455;\n",
              "      fill: #D2E3FC;\n",
              "    }\n",
              "\n",
              "    [theme=dark] .colab-df-convert:hover {\n",
              "      background-color: #434B5C;\n",
              "      box-shadow: 0px 1px 3px 1px rgba(0, 0, 0, 0.15);\n",
              "      filter: drop-shadow(0px 1px 2px rgba(0, 0, 0, 0.3));\n",
              "      fill: #FFFFFF;\n",
              "    }\n",
              "  </style>\n",
              "\n",
              "      <script>\n",
              "        const buttonEl =\n",
              "          document.querySelector('#df-e679dd0b-c6e1-4527-bf5f-5a50cbe162b0 button.colab-df-convert');\n",
              "        buttonEl.style.display =\n",
              "          google.colab.kernel.accessAllowed ? 'block' : 'none';\n",
              "\n",
              "        async function convertToInteractive(key) {\n",
              "          const element = document.querySelector('#df-e679dd0b-c6e1-4527-bf5f-5a50cbe162b0');\n",
              "          const dataTable =\n",
              "            await google.colab.kernel.invokeFunction('convertToInteractive',\n",
              "                                                     [key], {});\n",
              "          if (!dataTable) return;\n",
              "\n",
              "          const docLinkHtml = 'Like what you see? Visit the ' +\n",
              "            '<a target=\"_blank\" href=https://colab.research.google.com/notebooks/data_table.ipynb>data table notebook</a>'\n",
              "            + ' to learn more about interactive tables.';\n",
              "          element.innerHTML = '';\n",
              "          dataTable['output_type'] = 'display_data';\n",
              "          await google.colab.output.renderOutput(dataTable, element);\n",
              "          const docLink = document.createElement('div');\n",
              "          docLink.innerHTML = docLinkHtml;\n",
              "          element.appendChild(docLink);\n",
              "        }\n",
              "      </script>\n",
              "    </div>\n",
              "  </div>\n",
              "  "
            ],
            "text/plain": [
              "   split0_test_rmse  split1_test_rmse  split2_test_rmse  mean_test_rmse  \\\n",
              "5          1.185312          1.186997          1.187408        1.186573   \n",
              "4          1.243799          1.250904          1.249015        1.247906   \n",
              "3          1.596921          1.604625          1.618126        1.606557   \n",
              "2          2.193770          2.212942          2.197048        2.201253   \n",
              "1          3.054105          3.052857          3.068258        3.058406   \n",
              "0          4.198434          4.202096          4.188266        4.196265   \n",
              "\n",
              "   std_test_rmse  rank_test_rmse  split0_test_mae  split1_test_mae  \\\n",
              "5       0.000907               1         0.908817         0.908220   \n",
              "4       0.003005               2         0.976387         0.982523   \n",
              "3       0.008764               3         1.337506         1.345027   \n",
              "2       0.008373               4         1.955235         1.973437   \n",
              "1       0.006984               5         2.847218         2.844494   \n",
              "0       0.005850               6         4.022391         4.025009   \n",
              "\n",
              "   split2_test_mae  mean_test_mae  std_test_mae  rank_test_mae  mean_fit_time  \\\n",
              "5         0.907170       0.908069      0.000681              1      39.046918   \n",
              "4         0.978033       0.978981      0.002593              2      36.962230   \n",
              "3         1.359394       1.347309      0.009080              3      33.505569   \n",
              "2         1.958024       1.962232      0.008005              4      29.838364   \n",
              "1         2.860685       2.850799      0.007078              5      25.227027   \n",
              "0         4.010903       4.019434      0.006127              6      22.335586   \n",
              "\n",
              "   std_fit_time  mean_test_time  std_test_time             params  \\\n",
              "5      0.333846        2.438295       0.534686  {'n_factors': 30}   \n",
              "4      0.416281        2.412090       0.520049  {'n_factors': 27}   \n",
              "3      0.436835        2.775645       0.028484  {'n_factors': 21}   \n",
              "2      0.587801        2.416062       0.581259  {'n_factors': 15}   \n",
              "1      0.375276        2.392530       0.546727   {'n_factors': 9}   \n",
              "0      0.557535        3.827063       1.423851   {'n_factors': 3}   \n",
              "\n",
              "   param_n_factors  \n",
              "5               30  \n",
              "4               27  \n",
              "3               21  \n",
              "2               15  \n",
              "1                9  \n",
              "0                3  "
            ]
          },
          "execution_count": 94,
          "metadata": {},
          "output_type": "execute_result"
        }
      ],
      "source": [
        "pd.DataFrame(gsnmf.cv_results).sort_values(\"mean_test_rmse\")\n"
      ]
    },
    {
      "cell_type": "code",
      "execution_count": null,
      "metadata": {
        "colab": {
          "base_uri": "https://localhost:8080/"
        },
        "id": "yQH9vqUsrGBE",
        "outputId": "72913c17-3427-4e3a-8072-0cac835af293"
      },
      "outputs": [
        {
          "name": "stdout",
          "output_type": "stream",
          "text": [
            "RMSE: 1.1784\n",
            "MAE:  0.9020\n"
          ]
        },
        {
          "data": {
            "text/plain": [
              "(1.1783958527245904, 0.9019978924657986)"
            ]
          },
          "execution_count": 96,
          "metadata": {},
          "output_type": "execute_result"
        }
      ],
      "source": [
        "prednmf=gsnmf.test(datatest)\n",
        "rmse(prednmf),mae(prednmf)"
      ]
    },
    {
      "cell_type": "code",
      "execution_count": null,
      "metadata": {
        "colab": {
          "base_uri": "https://localhost:8080/"
        },
        "id": "bxhtWxOgBFkc",
        "outputId": "cb93d95e-c826-4f11-f795-92d0c233fa81"
      },
      "outputs": [
        {
          "name": "stdout",
          "output_type": "stream",
          "text": [
            "RMSE: 1.1784\n",
            "MAE:  0.9020\n"
          ]
        }
      ],
      "source": [
        "resNMF=(rmse(prednmf),mae(prednmf))"
      ]
    },
    {
      "cell_type": "markdown",
      "metadata": {
        "id": "AgHhRDiH6Xil"
      },
      "source": [
        "## Slope One"
      ]
    },
    {
      "cell_type": "markdown",
      "metadata": {
        "id": "4h_ayUzxCRaE"
      },
      "source": [
        "Slope One è un semplice algoritmo che effettua predizioni effettuando una media pesata sulla popolarità degli item."
      ]
    },
    {
      "cell_type": "code",
      "execution_count": null,
      "metadata": {
        "id": "O0ZT5oo0TAm3"
      },
      "outputs": [],
      "source": [
        "slopeonemodel=cross_validate(SlopeOne(), dataset_train, cv=3, verbose=False)"
      ]
    },
    {
      "cell_type": "code",
      "execution_count": null,
      "metadata": {
        "colab": {
          "base_uri": "https://localhost:8080/",
          "height": 143
        },
        "id": "Ffhtz3taSysS",
        "outputId": "6b0619ed-3a98-4e67-c24b-d55a6fecf17f"
      },
      "outputs": [
        {
          "data": {
            "text/html": [
              "\n",
              "  <div id=\"df-cb8420c1-d5a5-4cb3-8416-0833174a7e27\">\n",
              "    <div class=\"colab-df-container\">\n",
              "      <div>\n",
              "<style scoped>\n",
              "    .dataframe tbody tr th:only-of-type {\n",
              "        vertical-align: middle;\n",
              "    }\n",
              "\n",
              "    .dataframe tbody tr th {\n",
              "        vertical-align: top;\n",
              "    }\n",
              "\n",
              "    .dataframe thead th {\n",
              "        text-align: right;\n",
              "    }\n",
              "</style>\n",
              "<table border=\"1\" class=\"dataframe\">\n",
              "  <thead>\n",
              "    <tr style=\"text-align: right;\">\n",
              "      <th></th>\n",
              "      <th>test_rmse</th>\n",
              "      <th>test_mae</th>\n",
              "      <th>fit_time</th>\n",
              "      <th>test_time</th>\n",
              "    </tr>\n",
              "  </thead>\n",
              "  <tbody>\n",
              "    <tr>\n",
              "      <th>0</th>\n",
              "      <td>1.141040</td>\n",
              "      <td>0.865440</td>\n",
              "      <td>4.311109</td>\n",
              "      <td>32.698795</td>\n",
              "    </tr>\n",
              "    <tr>\n",
              "      <th>1</th>\n",
              "      <td>1.142428</td>\n",
              "      <td>0.866148</td>\n",
              "      <td>4.505790</td>\n",
              "      <td>30.641268</td>\n",
              "    </tr>\n",
              "    <tr>\n",
              "      <th>2</th>\n",
              "      <td>1.146661</td>\n",
              "      <td>0.868618</td>\n",
              "      <td>4.587256</td>\n",
              "      <td>31.912467</td>\n",
              "    </tr>\n",
              "  </tbody>\n",
              "</table>\n",
              "</div>\n",
              "      <button class=\"colab-df-convert\" onclick=\"convertToInteractive('df-cb8420c1-d5a5-4cb3-8416-0833174a7e27')\"\n",
              "              title=\"Convert this dataframe to an interactive table.\"\n",
              "              style=\"display:none;\">\n",
              "        \n",
              "  <svg xmlns=\"http://www.w3.org/2000/svg\" height=\"24px\"viewBox=\"0 0 24 24\"\n",
              "       width=\"24px\">\n",
              "    <path d=\"M0 0h24v24H0V0z\" fill=\"none\"/>\n",
              "    <path d=\"M18.56 5.44l.94 2.06.94-2.06 2.06-.94-2.06-.94-.94-2.06-.94 2.06-2.06.94zm-11 1L8.5 8.5l.94-2.06 2.06-.94-2.06-.94L8.5 2.5l-.94 2.06-2.06.94zm10 10l.94 2.06.94-2.06 2.06-.94-2.06-.94-.94-2.06-.94 2.06-2.06.94z\"/><path d=\"M17.41 7.96l-1.37-1.37c-.4-.4-.92-.59-1.43-.59-.52 0-1.04.2-1.43.59L10.3 9.45l-7.72 7.72c-.78.78-.78 2.05 0 2.83L4 21.41c.39.39.9.59 1.41.59.51 0 1.02-.2 1.41-.59l7.78-7.78 2.81-2.81c.8-.78.8-2.07 0-2.86zM5.41 20L4 18.59l7.72-7.72 1.47 1.35L5.41 20z\"/>\n",
              "  </svg>\n",
              "      </button>\n",
              "      \n",
              "  <style>\n",
              "    .colab-df-container {\n",
              "      display:flex;\n",
              "      flex-wrap:wrap;\n",
              "      gap: 12px;\n",
              "    }\n",
              "\n",
              "    .colab-df-convert {\n",
              "      background-color: #E8F0FE;\n",
              "      border: none;\n",
              "      border-radius: 50%;\n",
              "      cursor: pointer;\n",
              "      display: none;\n",
              "      fill: #1967D2;\n",
              "      height: 32px;\n",
              "      padding: 0 0 0 0;\n",
              "      width: 32px;\n",
              "    }\n",
              "\n",
              "    .colab-df-convert:hover {\n",
              "      background-color: #E2EBFA;\n",
              "      box-shadow: 0px 1px 2px rgba(60, 64, 67, 0.3), 0px 1px 3px 1px rgba(60, 64, 67, 0.15);\n",
              "      fill: #174EA6;\n",
              "    }\n",
              "\n",
              "    [theme=dark] .colab-df-convert {\n",
              "      background-color: #3B4455;\n",
              "      fill: #D2E3FC;\n",
              "    }\n",
              "\n",
              "    [theme=dark] .colab-df-convert:hover {\n",
              "      background-color: #434B5C;\n",
              "      box-shadow: 0px 1px 3px 1px rgba(0, 0, 0, 0.15);\n",
              "      filter: drop-shadow(0px 1px 2px rgba(0, 0, 0, 0.3));\n",
              "      fill: #FFFFFF;\n",
              "    }\n",
              "  </style>\n",
              "\n",
              "      <script>\n",
              "        const buttonEl =\n",
              "          document.querySelector('#df-cb8420c1-d5a5-4cb3-8416-0833174a7e27 button.colab-df-convert');\n",
              "        buttonEl.style.display =\n",
              "          google.colab.kernel.accessAllowed ? 'block' : 'none';\n",
              "\n",
              "        async function convertToInteractive(key) {\n",
              "          const element = document.querySelector('#df-cb8420c1-d5a5-4cb3-8416-0833174a7e27');\n",
              "          const dataTable =\n",
              "            await google.colab.kernel.invokeFunction('convertToInteractive',\n",
              "                                                     [key], {});\n",
              "          if (!dataTable) return;\n",
              "\n",
              "          const docLinkHtml = 'Like what you see? Visit the ' +\n",
              "            '<a target=\"_blank\" href=https://colab.research.google.com/notebooks/data_table.ipynb>data table notebook</a>'\n",
              "            + ' to learn more about interactive tables.';\n",
              "          element.innerHTML = '';\n",
              "          dataTable['output_type'] = 'display_data';\n",
              "          await google.colab.output.renderOutput(dataTable, element);\n",
              "          const docLink = document.createElement('div');\n",
              "          docLink.innerHTML = docLinkHtml;\n",
              "          element.appendChild(docLink);\n",
              "        }\n",
              "      </script>\n",
              "    </div>\n",
              "  </div>\n",
              "  "
            ],
            "text/plain": [
              "   test_rmse  test_mae  fit_time  test_time\n",
              "0   1.141040  0.865440  4.311109  32.698795\n",
              "1   1.142428  0.866148  4.505790  30.641268\n",
              "2   1.146661  0.868618  4.587256  31.912467"
            ]
          },
          "execution_count": 99,
          "metadata": {},
          "output_type": "execute_result"
        }
      ],
      "source": [
        "pd.DataFrame(slopeonemodel)"
      ]
    },
    {
      "cell_type": "code",
      "execution_count": null,
      "metadata": {
        "colab": {
          "base_uri": "https://localhost:8080/"
        },
        "id": "-ZpXMUE-8FIg",
        "outputId": "860b3a5a-342c-40ec-e4d5-5db0e3ed1cb2"
      },
      "outputs": [
        {
          "name": "stderr",
          "output_type": "stream",
          "text": [
            "/usr/local/lib/python3.7/dist-packages/ipykernel_launcher.py:3: DeprecationWarning: `np.int` is a deprecated alias for the builtin `int`. To silence this warning, use `int` by itself. Doing this will not modify any behavior and is safe. When replacing `np.int`, you may wish to use e.g. `np.int64` or `np.int32` to specify the precision. If you wish to review your current use, check the release note link for additional information.\n",
            "Deprecated in NumPy 1.20; for more details and guidance: https://numpy.org/devdocs/release/1.20.0-notes.html#deprecations\n",
            "  This is separate from the ipykernel package so we can avoid doing imports until\n"
          ]
        }
      ],
      "source": [
        "Slope1=SlopeOne()\n",
        "\n",
        "predSlope1=Slope1.fit(datatrain).test(datatest)"
      ]
    },
    {
      "cell_type": "code",
      "execution_count": null,
      "metadata": {
        "colab": {
          "base_uri": "https://localhost:8080/"
        },
        "id": "XmLhC4Tp9hgc",
        "outputId": "6e3e039d-e854-4156-bb8a-6a23e12bb9b9"
      },
      "outputs": [
        {
          "name": "stdout",
          "output_type": "stream",
          "text": [
            "RMSE: 1.1413\n",
            "MAE:  0.8649\n"
          ]
        }
      ],
      "source": [
        "resSlope1=(rmse(predSlope1),mae(predSlope1))"
      ]
    },
    {
      "cell_type": "markdown",
      "metadata": {
        "id": "-lFrSwBrui2-"
      },
      "source": [
        "## Comparazione Modelli"
      ]
    },
    {
      "cell_type": "markdown",
      "metadata": {
        "id": "wLnvtERCu-np"
      },
      "source": [
        "Il modello che ha fornito risultati migliori rispetto alle metriche rmse e mae è SVD. Il risultato ottenuto da SVD è consistente con il risultato ottenuto su Kaggle con lo stesso algoritmo. SVD si contraddistingue anche per essere il secondo algoritmo più veloce nell'addestramento dopo SlopeOne."
      ]
    },
    {
      "cell_type": "markdown",
      "source": [
        "Usiamo il modello svd addestrato per generare raccomandazioni per un utente con il codice fornito da surprise."
      ],
      "metadata": {
        "id": "l9GOhzUX7YBl"
      }
    },
    {
      "cell_type": "code",
      "source": [
        "from collections import defaultdict\n",
        "\n",
        "def get_top_n(predictions, n=10):\n",
        "    \"\"\"Return the top-N recommendation for each user from a set of predictions.\n",
        "\n",
        "    Args:\n",
        "        predictions(list of Prediction objects): The list of predictions, as\n",
        "            returned by the test method of an algorithm.\n",
        "        n(int): The number of recommendation to output for each user. Default\n",
        "            is 10.\n",
        "\n",
        "    Returns:\n",
        "    A dict where keys are user (raw) ids and values are lists of tuples:\n",
        "        [(raw item id, rating estimation), ...] of size n.\n",
        "    \"\"\"\n",
        "\n",
        "    # First map the predictions to each user.\n",
        "    top_n = defaultdict(list)\n",
        "    for uid, iid, true_r, est, _ in predictions:\n",
        "        top_n[uid].append((iid, est))\n",
        "\n",
        "    # Then sort the predictions for each user and retrieve the k highest ones.\n",
        "    for uid, user_ratings in top_n.items():\n",
        "        user_ratings.sort(key=lambda x: x[1], reverse=True)\n",
        "        top_n[uid] = user_ratings[:n]\n",
        "\n",
        "    return top_n\n",
        "\n",
        "\n",
        "predictions = gssvd.test(datatest)\n",
        "\n",
        "top_n = get_top_n(predictions, n=10)\n",
        "\n",
        "test_user_id=210\n",
        "# Print the recommended items for each user\n",
        "for uid, user_ratings in top_n.items():\n",
        "  if uid==test_user_id:\n",
        "    rec=[iid for (iid, _) in user_ratings]\n",
        "    print(uid, [iid for (iid, _) in user_ratings])\n"
      ],
      "metadata": {
        "colab": {
          "base_uri": "https://localhost:8080/"
        },
        "id": "1UQpQZti7WtL",
        "outputId": "046fa059-0f2b-40c2-8a4f-f57684d4efd9"
      },
      "execution_count": null,
      "outputs": [
        {
          "output_type": "stream",
          "name": "stdout",
          "text": [
            "210 [11061, 2904, 5114, 18115, 31043, 13601, 1604, 11771, 13759, 223]\n"
          ]
        }
      ]
    },
    {
      "cell_type": "code",
      "source": [
        "anime_raw.name[anime_raw.anime_id.isin(rec)]"
      ],
      "metadata": {
        "colab": {
          "base_uri": "https://localhost:8080/"
        },
        "id": "xYLeBRKC-Rtp",
        "outputId": "ec05eaa1-bd3c-4b9b-9788-d9a76224565b"
      },
      "execution_count": null,
      "outputs": [
        {
          "output_type": "execute_result",
          "data": {
            "text/plain": [
              "1        Fullmetal Alchemist: Brotherhood\n",
              "6                  Hunter x Hunter (2011)\n",
              "13     Code Geass: Hangyaku no Lelouch R2\n",
              "49                Boku dake ga Inai Machi\n",
              "98                            Psycho-Pass\n",
              "101            Magi: The Kingdom of Magic\n",
              "122                      Kuroko no Basket\n",
              "158            Sakurasou no Pet na Kanojo\n",
              "175                Katekyo Hitman Reborn!\n",
              "346                           Dragon Ball\n",
              "Name: name, dtype: object"
            ]
          },
          "metadata": {},
          "execution_count": 58
        }
      ]
    },
    {
      "cell_type": "markdown",
      "metadata": {
        "id": "GzEQHxegv7bC"
      },
      "source": [
        "## Neural Network"
      ]
    },
    {
      "cell_type": "markdown",
      "source": [
        "Oltre ai metodi sopra utilizzati per fare recommendation "
      ],
      "metadata": {
        "id": "u2VL8uYFTJEK"
      }
    },
    {
      "cell_type": "code",
      "execution_count": null,
      "metadata": {
        "id": "II7FSictVwF8"
      },
      "outputs": [],
      "source": [
        "anime_raw.rename(columns={\"rating\":\"avgRating\"},inplace=True)\n",
        "anime_copia=anime_raw.copy()\n",
        "anime_copia.genre = anime_copia.genre.apply(lambda x: \" \".join(x.split(\" \")).split(\", \"))"
      ]
    },
    {
      "cell_type": "code",
      "execution_count": null,
      "metadata": {
        "colab": {
          "base_uri": "https://localhost:8080/"
        },
        "id": "Vxu6IgZAVzNl",
        "outputId": "0ad89c8e-e53c-4af5-d258-026955792fc6"
      },
      "outputs": [
        {
          "output_type": "stream",
          "name": "stderr",
          "text": [
            "/usr/local/lib/python3.7/dist-packages/ipykernel_launcher.py:8: SettingWithCopyWarning: \n",
            "A value is trying to be set on a copy of a slice from a DataFrame\n",
            "\n",
            "See the caveats in the documentation: https://pandas.pydata.org/pandas-docs/stable/user_guide/indexing.html#returning-a-view-versus-a-copy\n",
            "  \n",
            "/usr/local/lib/python3.7/dist-packages/ipykernel_launcher.py:5: SettingWithCopyWarning: \n",
            "A value is trying to be set on a copy of a slice from a DataFrame\n",
            "\n",
            "See the caveats in the documentation: https://pandas.pydata.org/pandas-docs/stable/user_guide/indexing.html#returning-a-view-versus-a-copy\n",
            "  \"\"\"\n"
          ]
        }
      ],
      "source": [
        "genres = [] \n",
        "for i in range(len(anime_copia)):\n",
        "    for g in anime_copia.genre[i]:\n",
        "        if g in genres:\n",
        "            anime_copia[\"genre_\"+g][i] = 1\n",
        "        else:\n",
        "            anime_copia[\"genre_\"+g] = 0\n",
        "            anime_copia[\"genre_\"+g][i] = 1\n",
        "            genres.append(g)\n",
        "\n"
      ]
    },
    {
      "cell_type": "code",
      "execution_count": null,
      "metadata": {
        "id": "Gs0BKrScV7ue"
      },
      "outputs": [],
      "source": [
        "rating_genres= pd.merge(rating_new,anime_copia,how=\"left\",on=\"anime_id\")"
      ]
    },
    {
      "cell_type": "code",
      "execution_count": null,
      "metadata": {
        "id": "VFh-ldFXWIDe"
      },
      "outputs": [],
      "source": [
        "rating_genres=rating_genres.drop(columns=[\"type\",\"episodes\",\"avgRating\",\"members\",\"genre\"])"
      ]
    },
    {
      "cell_type": "markdown",
      "source": [
        "Effettuo uno scaling delle feature. Utilizzo minmax scaling sulla variabile target rating e utilizzo un label encoder per gli id utenti ed uno per gli id anime. Questa operazione è necessaria in quanto i valori degli id non sono uniformi."
      ],
      "metadata": {
        "id": "RaQfx0EiT8yJ"
      }
    },
    {
      "cell_type": "code",
      "execution_count": null,
      "metadata": {
        "id": "wYYCtWxL4pi8"
      },
      "outputs": [],
      "source": [
        "scal=sklearn.preprocessing.MinMaxScaler()\n",
        "rating_new.rating=scal.fit_transform(rating_new.rating.values.reshape(-1,1))\n",
        "rating_train.rating=scal.transform(rating_train.rating.values.reshape(-1,1))\n",
        "rating_test.rating=scal.transform(rating_test.rating.values.reshape(-1,1))"
      ]
    },
    {
      "cell_type": "code",
      "execution_count": null,
      "metadata": {
        "id": "_OgaKpRf-VaN"
      },
      "outputs": [],
      "source": [
        "userenc=sklearn.preprocessing.LabelEncoder()\n",
        "\n",
        "animeenc=sklearn.preprocessing.LabelEncoder()\n",
        "\n",
        "rating_new.user_id=userenc.fit_transform(rating_new.user_id)\n",
        "rating_new.anime_id=animeenc.fit_transform(rating_new.anime_id)\n",
        "\n",
        "rating_train.user_id=userenc.transform(rating_train.user_id)\n",
        "rating_train.anime_id=animeenc.transform(rating_train.anime_id)\n",
        "\n",
        "rating_test.user_id=userenc.transform(rating_test.user_id)\n",
        "rating_test.anime_id=animeenc.transform(rating_test.anime_id)\n",
        "\n",
        "rating_genres.anime_id=animeenc.transform(rating_genres.anime_id)\n"
      ]
    },
    {
      "cell_type": "code",
      "execution_count": null,
      "metadata": {
        "id": "VE-_0GP4cf71"
      },
      "outputs": [],
      "source": [
        "unique_user_ids=rating_genres['user_id'].unique()\n",
        "unique_anime_ids=rating_genres['anime_id'].unique()"
      ]
    },
    {
      "cell_type": "code",
      "execution_count": null,
      "metadata": {
        "id": "9unz4pAWi7F-"
      },
      "outputs": [],
      "source": [
        "embedding_dimension=32"
      ]
    },
    {
      "cell_type": "markdown",
      "source": [
        "Il modello utilizzato è un modello a due torri che utilizza come feature gli id utenti e gli id anime. Gli id vengono trasformati nei rispettivi embedding tra cui si effettua il dot product. Il risultato viene poi utilizzato come input da una rete densamente connessa che utilizza l'errore medio assoluto sul rating come loss per stimare i parametri che \"avvicinano\" tra di loro gli embedding di utenti e anime simili."
      ],
      "metadata": {
        "id": "xVa9Lau5Um-3"
      }
    },
    {
      "cell_type": "code",
      "execution_count": null,
      "metadata": {
        "id": "EJxt43wRku_t"
      },
      "outputs": [],
      "source": [
        "def recNN():\n",
        "  input_a=tf.keras.Input(shape=(1,))\n",
        "  anime_emb=tf.keras.layers.Embedding(input_dim=len(unique_anime_ids),output_dim=embedding_dimension)(input_a)\n",
        "  anime_vec=tf.keras.layers.Flatten()(anime_emb)\n",
        "  anime_model = tf.keras.Model(inputs=input_a, outputs=anime_vec)\n",
        "  \n",
        "\n",
        "  input_u=tf.keras.Input(shape=(1,))\n",
        "  user_emb=tf.keras.layers.Embedding(input_dim=len(unique_user_ids),output_dim=embedding_dimension)(input_u)\n",
        "  user_vec=tf.keras.layers.Flatten()(user_emb)\n",
        "  user_model = tf.keras.Model(inputs=input_u, outputs=user_vec)\n",
        "\n",
        "  \n",
        "\n",
        "  merged=tf.keras.layers.Dot(name = 'dot_product', normalize = True, axes = 2)([anime_emb, user_emb])\n",
        "  merged_dropout = tf.keras.layers.Dropout(0.2)(merged)\n",
        "\n",
        "  dense_1 = tf.keras.layers.Dense(70,name='FullyConnected-1')(merged)\n",
        "  dropout_1 = tf.keras.layers.Dropout(0.2,name='Dropout_1')(dense_1)\n",
        "\n",
        "  dense_2 = tf.keras.layers.Dense(50,name='FullyConnected-2')(dropout_1)\n",
        "  dropout_2 = tf.keras.layers.Dropout(0.2,name='Dropout_2')(dense_2)\n",
        "\n",
        "  dense_3 = tf.keras.layers.Dense(20,name='FullyConnected-3')(dropout_2)\n",
        "  dropout_3 = tf.keras.layers.Dropout(0.2,name='Dropout_3')(dense_3)\n",
        "\n",
        "  dense_4 = tf.keras.layers.Dense(10,name='FullyConnected-4', activation='relu')(dropout_3)\n",
        "\n",
        "  result = tf.keras.layers.Dense(1, name='result', activation=\"relu\") (dense_4)\n",
        "\n",
        "  adam = tf.keras.optimizers.Adam(lr=0.001)\n",
        "  model = tf.keras.Model([input_a, input_u], result)\n",
        "  model.compile(optimizer=adam,loss= 'mean_absolute_error',metrics=[tf.keras.metrics.MeanAbsoluteError()])\n",
        "  return model,anime_model, user_model"
      ]
    },
    {
      "cell_type": "code",
      "execution_count": null,
      "metadata": {
        "colab": {
          "base_uri": "https://localhost:8080/"
        },
        "id": "r2LJLlvcjUl4",
        "outputId": "586a8593-5b6d-4b24-ee77-e1bbf13bde23"
      },
      "outputs": [
        {
          "output_type": "stream",
          "name": "stdout",
          "text": [
            "Epoch 1/3\n"
          ]
        },
        {
          "output_type": "stream",
          "name": "stderr",
          "text": [
            "/usr/local/lib/python3.7/dist-packages/keras/optimizer_v2/adam.py:105: UserWarning: The `lr` argument is deprecated, use `learning_rate` instead.\n",
            "  super(Adam, self).__init__(name, **kwargs)\n"
          ]
        },
        {
          "output_type": "stream",
          "name": "stdout",
          "text": [
            "5664/5664 [==============================] - 34s 6ms/step - loss: 1.2488 - mean_absolute_error: 1.2488\n",
            "Epoch 2/3\n",
            "5664/5664 [==============================] - 36s 6ms/step - loss: 1.1101 - mean_absolute_error: 1.1101\n",
            "Epoch 3/3\n",
            "5664/5664 [==============================] - 32s 6ms/step - loss: 1.1083 - mean_absolute_error: 1.1083\n"
          ]
        },
        {
          "output_type": "execute_result",
          "data": {
            "text/plain": [
              "<keras.callbacks.History at 0x7f8ce045a510>"
            ]
          },
          "metadata": {},
          "execution_count": 81
        }
      ],
      "source": [
        "fullmodel,anime_model,user_model=recNN()\n",
        "fullmodel.fit([rating_train.anime_id.values,rating_train.user_id.values],rating_train.rating.values,epochs=3,batch_size=128)"
      ]
    },
    {
      "cell_type": "code",
      "execution_count": null,
      "metadata": {
        "colab": {
          "base_uri": "https://localhost:8080/"
        },
        "id": "vbx2QI7AoSW5",
        "outputId": "fe8bf070-e47e-47f5-85ed-e3e066c67f1a"
      },
      "outputs": [
        {
          "output_type": "stream",
          "name": "stdout",
          "text": [
            "7551/7551 [==============================] - 17s 2ms/step - loss: 1.1103 - mean_absolute_error: 1.1103\n"
          ]
        },
        {
          "output_type": "execute_result",
          "data": {
            "text/plain": [
              "[1.1102601289749146, 1.1102601289749146]"
            ]
          },
          "metadata": {},
          "execution_count": 83
        }
      ],
      "source": [
        "fullmodel.evaluate([rating_test.anime_id.values,rating_test.user_id.values],rating_test.rating.values)"
      ]
    },
    {
      "cell_type": "code",
      "execution_count": null,
      "metadata": {
        "colab": {
          "base_uri": "https://localhost:8080/",
          "height": 1000
        },
        "id": "rGMnPwDg5ylq",
        "outputId": "dc60d3d0-078b-4874-9093-57b49a4c64bf"
      },
      "outputs": [
        {
          "data": {
            "image/png": "[encoded data removed]",
            "text/plain": [
              "<IPython.core.display.Image object>"
            ]
          },
          "execution_count": 39,
          "metadata": {},
          "output_type": "execute_result"
        }
      ],
      "source": [
        "tf.keras.utils.plot_model(fullmodel,show_shapes=True)"
      ]
    },
    {
      "cell_type": "code",
      "execution_count": null,
      "metadata": {
        "id": "BWjFFZfag_wk"
      },
      "outputs": [],
      "source": [
        "import collections\n",
        "ANIME_EMBEDDING_LIST = []\n",
        "ANIME_EMBED_MAP = collections.defaultdict()\n",
        "for _id in unique_anime_ids:\n",
        "    emb = anime_model.predict(np.array([_id]))\n",
        "    val = list(emb.reshape(1,-1))[0]\n",
        "    ANIME_EMBEDDING_LIST.insert(_id, val)\n",
        "    ANIME_EMBED_MAP[_id] = val"
      ]
    },
    {
      "cell_type": "code",
      "execution_count": null,
      "metadata": {
        "id": "3-NjNaHkdvlm"
      },
      "outputs": [],
      "source": [
        "TEST_USER_ID = 7\n",
        "user_embedding = recNN()[1].predict([TEST_USER_ID]).reshape(1,-1)[0]"
      ]
    },
    {
      "cell_type": "code",
      "execution_count": null,
      "metadata": {
        "colab": {
          "base_uri": "https://localhost:8080/",
          "height": 332
        },
        "id": "wGWIaZand7NH",
        "outputId": "be73cd19-6c60-4ecd-ebdb-daf9ba90d044"
      },
      "outputs": [
        {
          "output_type": "execute_result",
          "data": {
            "text/plain": [
              "   anime_id\n",
              "0       942\n",
              "1       901\n",
              "2       602\n",
              "3      1001\n",
              "4      1044\n",
              "5       427\n",
              "6       132\n",
              "7       258\n",
              "8       472"
            ],
            "text/html": [
              "\n",
              "  <div id=\"df-768a7a39-dbb8-4004-b0ea-57350f9a172e\">\n",
              "    <div class=\"colab-df-container\">\n",
              "      <div>\n",
              "<style scoped>\n",
              "    .dataframe tbody tr th:only-of-type {\n",
              "        vertical-align: middle;\n",
              "    }\n",
              "\n",
              "    .dataframe tbody tr th {\n",
              "        vertical-align: top;\n",
              "    }\n",
              "\n",
              "    .dataframe thead th {\n",
              "        text-align: right;\n",
              "    }\n",
              "</style>\n",
              "<table border=\"1\" class=\"dataframe\">\n",
              "  <thead>\n",
              "    <tr style=\"text-align: right;\">\n",
              "      <th></th>\n",
              "      <th>anime_id</th>\n",
              "    </tr>\n",
              "  </thead>\n",
              "  <tbody>\n",
              "    <tr>\n",
              "      <th>0</th>\n",
              "      <td>942</td>\n",
              "    </tr>\n",
              "    <tr>\n",
              "      <th>1</th>\n",
              "      <td>901</td>\n",
              "    </tr>\n",
              "    <tr>\n",
              "      <th>2</th>\n",
              "      <td>602</td>\n",
              "    </tr>\n",
              "    <tr>\n",
              "      <th>3</th>\n",
              "      <td>1001</td>\n",
              "    </tr>\n",
              "    <tr>\n",
              "      <th>4</th>\n",
              "      <td>1044</td>\n",
              "    </tr>\n",
              "    <tr>\n",
              "      <th>5</th>\n",
              "      <td>427</td>\n",
              "    </tr>\n",
              "    <tr>\n",
              "      <th>6</th>\n",
              "      <td>132</td>\n",
              "    </tr>\n",
              "    <tr>\n",
              "      <th>7</th>\n",
              "      <td>258</td>\n",
              "    </tr>\n",
              "    <tr>\n",
              "      <th>8</th>\n",
              "      <td>472</td>\n",
              "    </tr>\n",
              "  </tbody>\n",
              "</table>\n",
              "</div>\n",
              "      <button class=\"colab-df-convert\" onclick=\"convertToInteractive('df-768a7a39-dbb8-4004-b0ea-57350f9a172e')\"\n",
              "              title=\"Convert this dataframe to an interactive table.\"\n",
              "              style=\"display:none;\">\n",
              "        \n",
              "  <svg xmlns=\"http://www.w3.org/2000/svg\" height=\"24px\"viewBox=\"0 0 24 24\"\n",
              "       width=\"24px\">\n",
              "    <path d=\"M0 0h24v24H0V0z\" fill=\"none\"/>\n",
              "    <path d=\"M18.56 5.44l.94 2.06.94-2.06 2.06-.94-2.06-.94-.94-2.06-.94 2.06-2.06.94zm-11 1L8.5 8.5l.94-2.06 2.06-.94-2.06-.94L8.5 2.5l-.94 2.06-2.06.94zm10 10l.94 2.06.94-2.06 2.06-.94-2.06-.94-.94-2.06-.94 2.06-2.06.94z\"/><path d=\"M17.41 7.96l-1.37-1.37c-.4-.4-.92-.59-1.43-.59-.52 0-1.04.2-1.43.59L10.3 9.45l-7.72 7.72c-.78.78-.78 2.05 0 2.83L4 21.41c.39.39.9.59 1.41.59.51 0 1.02-.2 1.41-.59l7.78-7.78 2.81-2.81c.8-.78.8-2.07 0-2.86zM5.41 20L4 18.59l7.72-7.72 1.47 1.35L5.41 20z\"/>\n",
              "  </svg>\n",
              "      </button>\n",
              "      \n",
              "  <style>\n",
              "    .colab-df-container {\n",
              "      display:flex;\n",
              "      flex-wrap:wrap;\n",
              "      gap: 12px;\n",
              "    }\n",
              "\n",
              "    .colab-df-convert {\n",
              "      background-color: #E8F0FE;\n",
              "      border: none;\n",
              "      border-radius: 50%;\n",
              "      cursor: pointer;\n",
              "      display: none;\n",
              "      fill: #1967D2;\n",
              "      height: 32px;\n",
              "      padding: 0 0 0 0;\n",
              "      width: 32px;\n",
              "    }\n",
              "\n",
              "    .colab-df-convert:hover {\n",
              "      background-color: #E2EBFA;\n",
              "      box-shadow: 0px 1px 2px rgba(60, 64, 67, 0.3), 0px 1px 3px 1px rgba(60, 64, 67, 0.15);\n",
              "      fill: #174EA6;\n",
              "    }\n",
              "\n",
              "    [theme=dark] .colab-df-convert {\n",
              "      background-color: #3B4455;\n",
              "      fill: #D2E3FC;\n",
              "    }\n",
              "\n",
              "    [theme=dark] .colab-df-convert:hover {\n",
              "      background-color: #434B5C;\n",
              "      box-shadow: 0px 1px 3px 1px rgba(0, 0, 0, 0.15);\n",
              "      filter: drop-shadow(0px 1px 2px rgba(0, 0, 0, 0.3));\n",
              "      fill: #FFFFFF;\n",
              "    }\n",
              "  </style>\n",
              "\n",
              "      <script>\n",
              "        const buttonEl =\n",
              "          document.querySelector('#df-768a7a39-dbb8-4004-b0ea-57350f9a172e button.colab-df-convert');\n",
              "        buttonEl.style.display =\n",
              "          google.colab.kernel.accessAllowed ? 'block' : 'none';\n",
              "\n",
              "        async function convertToInteractive(key) {\n",
              "          const element = document.querySelector('#df-768a7a39-dbb8-4004-b0ea-57350f9a172e');\n",
              "          const dataTable =\n",
              "            await google.colab.kernel.invokeFunction('convertToInteractive',\n",
              "                                                     [key], {});\n",
              "          if (!dataTable) return;\n",
              "\n",
              "          const docLinkHtml = 'Like what you see? Visit the ' +\n",
              "            '<a target=\"_blank\" href=https://colab.research.google.com/notebooks/data_table.ipynb>data table notebook</a>'\n",
              "            + ' to learn more about interactive tables.';\n",
              "          element.innerHTML = '';\n",
              "          dataTable['output_type'] = 'display_data';\n",
              "          await google.colab.output.renderOutput(dataTable, element);\n",
              "          const docLink = document.createElement('div');\n",
              "          docLink.innerHTML = docLinkHtml;\n",
              "          element.appendChild(docLink);\n",
              "        }\n",
              "      </script>\n",
              "    </div>\n",
              "  </div>\n",
              "  "
            ]
          },
          "metadata": {},
          "execution_count": 88
        }
      ],
      "source": [
        "knn_train_label=unique_anime_ids\n",
        "from sklearn.neighbors import KNeighborsClassifier\n",
        "clf = KNeighborsClassifier(n_neighbors=11)\n",
        "clf.fit(ANIME_EMBEDDING_LIST, knn_train_label)\n",
        "\n",
        "def recommend_anime(embedding):\n",
        "    distances, indices = clf.kneighbors(embedding.reshape(1, -1),  n_neighbors=10)\n",
        "    indices = indices.reshape(10,1)\n",
        "    df_indices = pd.DataFrame(indices, columns = ['anime_id'])\n",
        "    return df_indices.merge(anime_raw.anime_id,on='anime_id',how='inner',suffixes=['_u', '_m'])\n",
        "  \n",
        "recommend_anime(user_embedding)"
      ]
    },
    {
      "cell_type": "markdown",
      "source": [
        "Possiamo ora generare delle raccomandazione per un utente!"
      ],
      "metadata": {
        "id": "Gv4cAPGdRc-p"
      }
    },
    {
      "cell_type": "code",
      "execution_count": null,
      "metadata": {
        "id": "skCudZxBR8-H"
      },
      "outputs": [],
      "source": [
        "user_embedding = user_model.predict([7]).reshape(1,-1)[0]"
      ]
    },
    {
      "cell_type": "code",
      "execution_count": null,
      "metadata": {
        "colab": {
          "base_uri": "https://localhost:8080/"
        },
        "id": "rYmnv4y4Sxzr",
        "outputId": "cbce939e-a0dc-4275-e2ab-90eb5a2bd3d6"
      },
      "outputs": [
        {
          "output_type": "execute_result",
          "data": {
            "text/plain": [
              "365                                               Paprika\n",
              "588                                       Dragon Ball Kai\n",
              "721     Code Geass: Boukoku no Akito 2 - Hikisakareshi...\n",
              "760                                            Elfen Lied\n",
              "1333                   Bleach Movie 1: Memories of Nobody\n",
              "2202        One Piece Movie 2: Nejimaki-jima no Daibouken\n",
              "3564                                 Seiken no Blacksmith\n",
              "4049                                 Astarotte no Omocha!\n",
              "Name: name, dtype: object"
            ]
          },
          "metadata": {},
          "execution_count": 161
        }
      ],
      "source": [
        "anime_raw.name[anime_raw.anime_id.isin(animeenc.inverse_transform(recommend_anime(user_embedding).anime_id))]"
      ]
    }
  ],
  "metadata": {
    "accelerator": "GPU",
    "colab": {
      "collapsed_sections": [],
      "provenance": []
    },
    "gpuClass": "standard",
    "kernelspec": {
      "display_name": "Python 3",
      "name": "python3"
    },
    "language_info": {
      "name": "python"
    }
  },
  "nbformat": 4,
  "nbformat_minor": 0
}